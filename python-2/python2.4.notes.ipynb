{
 "cells": [
  {
   "cell_type": "markdown",
   "metadata": {},
   "source": [
    "# python 2.4\n",
    "- pep8, clean code\n",
    "- typehints\n",
    "- mypy\n",
    "- enum\n",
    "- pytest"
   ]
  },
  {
   "cell_type": "markdown",
   "metadata": {},
   "source": [
    "# PEP8\n",
    "* PEP8 is recommendation, not rule (but it's valuable to follow)\n",
    "* there are also tools for\n",
    "    * linting code (`pip install pep8`)\n",
    "    * autoformatting (`pip install black`)\n",
    "* see more https://realpython.com/python-pep8/\n",
    "* imports in header of file"
   ]
  },
  {
   "cell_type": "markdown",
   "metadata": {},
   "source": [
    "# clean code\n",
    "* see overview in [python2.4.cleancode.ipynb](python2.4.cleancode.ipynb)"
   ]
  },
  {
   "cell_type": "markdown",
   "metadata": {},
   "source": [
    "# SOLID\n",
    "* *(\\<Ctrl> + F, \"SOLID\")* https://www.pentalog.com/blog/clean-code-with-python"
   ]
  },
  {
   "cell_type": "markdown",
   "metadata": {},
   "source": [
    "# test driven development (TDD)\n"
   ]
  },
  {
   "cell_type": "markdown",
   "metadata": {},
   "source": [
    "# typehints"
   ]
  },
  {
   "cell_type": "code",
   "execution_count": null,
   "metadata": {},
   "outputs": [],
   "source": [
    "# %load python2.4.mypy.py\n",
    "from typing import List, Dict\n",
    "# def indent(size, content: List[str]):\n",
    "\n",
    "def indent(size, content):\n",
    "    print(f'This is output of {len(content)} lines')\n",
    "    for line in content:\n",
    "        print(size * '.' + line)\n",
    "\n",
    "\n",
    "indent(3, 'micka masa mirek')\n",
    "indent(3, 'micka masa mirek'.split())\n",
    "\n",
    "\n",
    "def indent_dict(content: List[Dict[str, int]]):\n",
    "    for item in content:\n",
    "        for key, value in item.items():\n",
    "            print(key)\n",
    "            c = value / 2\n",
    "            print(c)\n",
    "\n",
    "\n",
    "dict_content = [\n",
    "    # vs {'age': '5'},\n",
    "    {'age': 5},\n",
    "]\n",
    "\n",
    "indent_dict(dict_content)"
   ]
  },
  {
   "cell_type": "markdown",
   "metadata": {},
   "source": [
    "# mypy - static analysis types"
   ]
  },
  {
   "cell_type": "code",
   "execution_count": 1,
   "metadata": {
    "collapsed": true
   },
   "outputs": [
    {
     "name": "stdout",
     "output_type": "stream",
     "text": [
      "Collecting mypy\n",
      "  Downloading mypy-0.812-cp38-cp38-win_amd64.whl (7.8 MB)\n",
      "Collecting typed-ast<1.5.0,>=1.4.0\n",
      "  Downloading typed_ast-1.4.2-cp38-cp38-win_amd64.whl (158 kB)\n",
      "Collecting mypy-extensions<0.5.0,>=0.4.3\n",
      "  Using cached mypy_extensions-0.4.3-py2.py3-none-any.whl (4.5 kB)\n",
      "Collecting typing-extensions>=3.7.4\n",
      "  Using cached typing_extensions-3.7.4.3-py3-none-any.whl (22 kB)\n",
      "Installing collected packages: typed-ast, mypy-extensions, typing-extensions, mypy\n",
      "Successfully installed mypy-0.812 mypy-extensions-0.4.3 typed-ast-1.4.2 typing-extensions-3.7.4.3\n"
     ]
    },
    {
     "name": "stderr",
     "output_type": "stream",
     "text": [
      "WARNING: You are using pip version 20.2; however, version 21.0.1 is available.\n",
      "You should consider upgrading via the 'c:\\prace\\venv\\scripts\\python.exe -m pip install --upgrade pip' command.\n"
     ]
    }
   ],
   "source": [
    "!pip install mypy"
   ]
  },
  {
   "cell_type": "code",
   "execution_count": 8,
   "metadata": {},
   "outputs": [
    {
     "name": "stdout",
     "output_type": "stream",
     "text": [
      "Success: no issues found in 1 source file\n"
     ]
    }
   ],
   "source": [
    "!mypy python2.4.mypy.py"
   ]
  },
  {
   "cell_type": "code",
   "execution_count": 7,
   "metadata": {
    "scrolled": true
   },
   "outputs": [
    {
     "name": "stdout",
     "output_type": "stream",
     "text": [
      "python2.4.mypy.py:4: error: Function is missing a type annotation\n",
      "python2.4.mypy.py:10: error: Call to untyped function \"indent\" in typed context\n",
      "python2.4.mypy.py:11: error: Call to untyped function \"indent\" in typed context\n",
      "python2.4.mypy.py:14: error: Function is missing a return type annotation\n",
      "Found 4 errors in 1 file (checked 1 source file)\n"
     ]
    }
   ],
   "source": [
    "!mypy --strict python2.4.mypy.py"
   ]
  },
  {
   "cell_type": "markdown",
   "metadata": {},
   "source": [
    "# enum\n",
    "- since python3.4"
   ]
  },
  {
   "cell_type": "markdown",
   "metadata": {},
   "source": [
    "#### Example:\n",
    "Simplified traffic lights abstraction."
   ]
  },
  {
   "cell_type": "code",
   "execution_count": 72,
   "metadata": {},
   "outputs": [],
   "source": [
    "# without enum\n",
    "\n",
    "def describe_status(state):\n",
    "    if state == 'red':\n",
    "        print('stop')\n",
    "    elif state == 'orange':\n",
    "        print('prepare yourself')\n",
    "    elif state == 'green':\n",
    "        print('go!')\n",
    "    else:\n",
    "        print(f'Uknown state {state}')"
   ]
  },
  {
   "cell_type": "code",
   "execution_count": 73,
   "metadata": {},
   "outputs": [
    {
     "name": "stdout",
     "output_type": "stream",
     "text": [
      "stop\n",
      "prepare yourself\n",
      "go!\n"
     ]
    }
   ],
   "source": [
    "describe_status('red')\n",
    "describe_status('orange')\n",
    "describe_status('green')"
   ]
  },
  {
   "cell_type": "markdown",
   "metadata": {},
   "source": [
    "Possible problems:\n",
    "* invalid value `\"yellow\"`\n",
    "* invalid type `5`"
   ]
  },
  {
   "cell_type": "code",
   "execution_count": 74,
   "metadata": {},
   "outputs": [
    {
     "name": "stdout",
     "output_type": "stream",
     "text": [
      "Uknown state yellow\n",
      "Uknown state 5\n"
     ]
    }
   ],
   "source": [
    "describe_status('yellow')\n",
    "describe_status(5)"
   ]
  },
  {
   "cell_type": "code",
   "execution_count": 63,
   "metadata": {},
   "outputs": [
    {
     "name": "stdout",
     "output_type": "stream",
     "text": [
      "<enum 'Colors'>\n"
     ]
    }
   ],
   "source": [
    "from enum import Enum, auto\n",
    "\n",
    "class Colors(Enum):\n",
    "    red = 'red'\n",
    "    orange = 'orange'\n",
    "    green = 'green'\n",
    "    orangegreen = 'orangegreen'\n",
    "\n",
    "print(Colors)"
   ]
  },
  {
   "cell_type": "code",
   "execution_count": 51,
   "metadata": {},
   "outputs": [
    {
     "data": {
      "text/plain": [
       "False"
      ]
     },
     "execution_count": 51,
     "metadata": {},
     "output_type": "execute_result"
    }
   ],
   "source": [
    "Colors.red == Colors.green"
   ]
  },
  {
   "cell_type": "code",
   "execution_count": 50,
   "metadata": {},
   "outputs": [
    {
     "data": {
      "text/plain": [
       "[<Colors.red: 'red'>, <Colors.orange: 'orange'>, <Colors.green: 'green'>]"
      ]
     },
     "execution_count": 50,
     "metadata": {},
     "output_type": "execute_result"
    }
   ],
   "source": [
    "list(Colors)"
   ]
  },
  {
   "cell_type": "code",
   "execution_count": 41,
   "metadata": {},
   "outputs": [
    {
     "data": {
      "text/plain": [
       "True"
      ]
     },
     "execution_count": 41,
     "metadata": {},
     "output_type": "execute_result"
    }
   ],
   "source": [
    "Colors.red in Colors"
   ]
  },
  {
   "cell_type": "markdown",
   "metadata": {},
   "source": [
    "##### exercise\n",
    "create `FlowerColors` and try yourself: `FlowerColors.red == Colors.red`"
   ]
  },
  {
   "cell_type": "code",
   "execution_count": 52,
   "metadata": {},
   "outputs": [
    {
     "data": {
      "text/plain": [
       "False"
      ]
     },
     "execution_count": 52,
     "metadata": {},
     "output_type": "execute_result"
    }
   ],
   "source": [
    "class FlowerColors(Enum):\n",
    "    red = 'red'\n",
    "\n",
    "FlowerColors.red == Colors.red"
   ]
  },
  {
   "cell_type": "code",
   "execution_count": 75,
   "metadata": {},
   "outputs": [],
   "source": [
    "# with enum\n",
    "\n",
    "def describe_status(state):\n",
    "    if state == Colors.red:\n",
    "        print('stop')\n",
    "    elif state == Colors.orange:\n",
    "        print('prepare yourself')\n",
    "    elif state == Colors.green:\n",
    "        print('go!')\n",
    "    else:\n",
    "        print(f'Unknown state {state}')\n",
    "        # print(f'Unknown state {state.name}')"
   ]
  },
  {
   "cell_type": "code",
   "execution_count": 71,
   "metadata": {},
   "outputs": [
    {
     "name": "stdout",
     "output_type": "stream",
     "text": [
      "stop\n",
      "Unknown state FlowerColors.red\n"
     ]
    }
   ],
   "source": [
    "describe_status(Colors.red)\n",
    "describe_status(FlowerColors.red)"
   ]
  },
  {
   "cell_type": "markdown",
   "metadata": {},
   "source": [
    "# testing"
   ]
  },
  {
   "cell_type": "markdown",
   "metadata": {},
   "source": [
    "* condition no.0: tests has to exists\n",
    "* test each public method isn't ideal, better to test class behaviour as whole\n",
    "* writing tests are like experimenting in science, with difference you know correct result in advance."
   ]
  },
  {
   "cell_type": "markdown",
   "metadata": {},
   "source": [
    "* A testing unit should focus on one tiny bit of functionality and prove it correct.\n",
    "* Each test unit must be fully independent.\n",
    "    * Each test must be able to run alone, and also within the test suite, regardless of the order that they are called.\n",
    "    * The implication of this rule is that each test must be loaded with a fresh dataset and may have to do some cleanup afterwards.\n",
    "* The first step when you are debugging your code is to write a new test pinpointing the bug. While it is not always possible to do, those bug catching tests are among the most valuable pieces of code in your project.\n",
    "* Use long and descriptive names for testing functions\n",
    "* Make testing code  read as much as or even more than the running code.\n",
    "    * Be explicit, verbose.\n",
    "* A unit test whose purpose is unclear is not very helpful in this case.\n",
    "* Another use of the testing code is as an introduction to new developers\n",
    "https://docs.python-guide.org/writing/tests/"
   ]
  },
  {
   "cell_type": "markdown",
   "metadata": {},
   "source": [
    "# how to test - case study\n",
    "\n",
    "Let's extend previous example from Street light to Traffic semaphore.\n",
    "\n",
    "Requirements:\n",
    "1. defined state after creation is `red`\n",
    "1. `change_status()` to move to another state\n",
    "1. `get_status()` to return current state\n",
    "1. `set_status(Colors.*)` to set current state by passing color from enum `Colors`"
   ]
  },
  {
   "cell_type": "code",
   "execution_count": 1,
   "metadata": {},
   "outputs": [],
   "source": [
    "# semaphore.py\n",
    "from enum import Enum #, auto\n",
    "\n",
    "class Colors(Enum):\n",
    "    red = 'red'\n",
    "    orange = 'orange'\n",
    "    green = 'green'\n",
    "    orangered = 'orangered'\n",
    "\n",
    "\n",
    "class Semaphore:\n",
    "    sequence = [\n",
    "        Colors.red,\n",
    "        Colors.orangered,\n",
    "        Colors.green,\n",
    "        Colors.orange\n",
    "    ]\n",
    "    \n",
    "    def __init__(self):\n",
    "        self.current_index = 0\n",
    "\n",
    "    def change_state(self):\n",
    "        self.current_index += 1\n",
    "    \n",
    "    def get_status(self):\n",
    "        return self.sequence[self.current_index]\n",
    "    \n",
    "    def set_status(self, status):\n",
    "        index = self.sequence.index(status)\n",
    "        self.current_index = index"
   ]
  },
  {
   "cell_type": "code",
   "execution_count": 5,
   "metadata": {
    "scrolled": true
   },
   "outputs": [
    {
     "name": "stdout",
     "output_type": "stream",
     "text": [
      "Colors.red\n",
      "Colors.orangered\n",
      "Colors.green\n"
     ]
    }
   ],
   "source": [
    "sem = Semaphore()\n",
    "\n",
    "print(sem.get_status())\n",
    "\n",
    "sem.change_state()\n",
    "print(sem.get_status())\n",
    "\n",
    "sem.set_status(Colors.green)\n",
    "print(sem.get_status())"
   ]
  },
  {
   "cell_type": "code",
   "execution_count": null,
   "metadata": {},
   "outputs": [],
   "source": [
    "status = sem.get_status()\n",
    "print('Status is ' + status)"
   ]
  },
  {
   "cell_type": "markdown",
   "metadata": {},
   "source": [
    "## Why we need test-runner?\n",
    "\n",
    "Naive test suite:"
   ]
  },
  {
   "cell_type": "code",
   "execution_count": 14,
   "metadata": {
    "scrolled": true
   },
   "outputs": [
    {
     "name": "stdout",
     "output_type": "stream",
     "text": [
      "ok - init status is red\n",
      "fail - next status si NOT orangered\n"
     ]
    }
   ],
   "source": [
    "sem = Semaphore()\n",
    "\n",
    "status = sem.get_status()\n",
    "if status == Colors.red:\n",
    "    print('ok - init status is red')\n",
    "else:\n",
    "    print('fail - init statu si NOT red')\n",
    "\n",
    "\n",
    "sem.change_state()\n",
    "#status = sem.get_status()\n",
    "status = sem.change_state()\n",
    "if status == Colors.orangered:\n",
    "    print('ok - next status is orangered')\n",
    "else:\n",
    "    print('fail - next status si NOT orangered')"
   ]
  },
  {
   "cell_type": "markdown",
   "metadata": {},
   "source": [
    "# pytest\n",
    "- `pytest` is **test runner**\n",
    "- test case as function\n",
    "- tests discovery\n",
    "- junit export\n",
    "- fixture\n",
    "- better than builtin `unittests`"
   ]
  },
  {
   "cell_type": "markdown",
   "metadata": {},
   "source": [
    "**Exercise:** figure out serveral tests (`def test_...(self): ...`)\\\n",
    "*type single `X` per each test case (as comment in Barevné lístečky)*"
   ]
  },
  {
   "cell_type": "code",
   "execution_count": 10,
   "metadata": {},
   "outputs": [],
   "source": [
    "# 7 test cases so far...\n",
    "def test_initial_state_is_red(): ...\n",
    "def test_next_state_after_red(): ...\n",
    "def test_next_state_after_orangered(): ...\n",
    "def test_next_state_after_green(): ...\n",
    "def test_next_state_after_orange(): ...\n",
    "def test_full_cycle(): ...\n",
    "def test_set_invalid_color(): ..."
   ]
  },
  {
   "cell_type": "markdown",
   "metadata": {},
   "source": [
    "Notes:\n",
    "* `initial_state_is_red` is great\n",
    "* `next_state_after_red` is ok, better is to contain `_is_orangered`"
   ]
  },
  {
   "cell_type": "markdown",
   "metadata": {},
   "source": [
    "* stdout is captured by default (`-s` to display anyway)\n",
    "* show verbose output (`-v`) with percents\n",
    "* `--lf` (`--last-failed`)\n",
    "* `--setup-plan` ("
   ]
  },
  {
   "cell_type": "code",
   "execution_count": null,
   "metadata": {},
   "outputs": [],
   "source": [
    "def test_initial_state_is_red():\n",
    "    sem = Semaphore()\n",
    "    assert sem.get_status() == Colors.red"
   ]
  },
  {
   "cell_type": "markdown",
   "metadata": {},
   "source": [
    "* PyCharm integration\n",
    "    * **Run pytest in \\<filename\\>** from right click in editor\n",
    "    * execute single test case\n",
    "    * auto re-run tests after change (💗), also with minimized panel\n",
    "    * by default passed tests are hidden"
   ]
  },
  {
   "cell_type": "markdown",
   "metadata": {},
   "source": [
    "### fixtures"
   ]
  },
  {
   "cell_type": "code",
   "execution_count": 16,
   "metadata": {},
   "outputs": [],
   "source": [
    "from pytest import fixture\n",
    "\n",
    "\n",
    "def semaphore():\n",
    "    return Semaphore()\n",
    "\n",
    "\n",
    "def red_semaphore(semaphore):\n",
    "    semaphore.set_state(Colors.red)\n",
    "    return semaphore\n",
    "\n",
    "\n",
    "def test_red_sem(red_semaphore):\n",
    "    assert red_semaphore == Colors.red\n",
    "\n",
    "\n",
    "def test_change_from_red(red_semaphore):\n",
    "    ..."
   ]
  },
  {
   "cell_type": "markdown",
   "metadata": {},
   "source": [
    "### expecting exceptions"
   ]
  },
  {
   "cell_type": "code",
   "execution_count": 22,
   "metadata": {},
   "outputs": [],
   "source": [
    "from pytest import raises\n",
    "\n",
    "def test_exception():\n",
    "    with raises(Exception):\n",
    "        raise KeyError('this was not expected')\n",
    "        #raise Exception('this was not expected')"
   ]
  }
 ],
 "metadata": {
  "kernelspec": {
   "display_name": "Python 3",
   "language": "python",
   "name": "python3"
  },
  "language_info": {
   "codemirror_mode": {
    "name": "ipython",
    "version": 3
   },
   "file_extension": ".py",
   "mimetype": "text/x-python",
   "name": "python",
   "nbconvert_exporter": "python",
   "pygments_lexer": "ipython3",
   "version": "3.8.5"
  }
 },
 "nbformat": 4,
 "nbformat_minor": 4
}
