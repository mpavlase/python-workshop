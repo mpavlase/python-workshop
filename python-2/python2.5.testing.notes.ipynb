{
 "cells": [
  {
   "cell_type": "markdown",
   "metadata": {},
   "source": [
    "# Examples of good/bad practises for writing tests"
   ]
  },
  {
   "cell_type": "code",
   "execution_count": 6,
   "metadata": {},
   "outputs": [],
   "source": [
    "# (refactor each example during presentation)"
   ]
  },
  {
   "cell_type": "markdown",
   "metadata": {},
   "source": [
    "![kacnicka](https://lekarnacz.vshcdn.net/upload/pl/ay/playgro-kacenka-do-vany-2243640-300x300-fit.webp)"
   ]
  },
  {
   "cell_type": "markdown",
   "metadata": {},
   "source": [
    "* A testing unit should focus on one tiny bit of functionality and prove it correct."
   ]
  },
  {
   "cell_type": "code",
   "execution_count": 5,
   "metadata": {},
   "outputs": [],
   "source": [
    "def test_test1():\n",
    "    duck = Duck()\n",
    "    assert duck.name == 'Kachnička'\n",
    "    \n",
    "    if duck.color == 'yellow':\n",
    "        message = duck.quack()\n",
    "        assert message == 'Kač kač'"
   ]
  },
  {
   "cell_type": "markdown",
   "metadata": {},
   "source": [
    "* Each test unit must be fully independent.\n",
    "    * Each test must be able to run alone, and also within the test suite, regardless of the order that they are called.\n",
    "    * The implication of this rule is that each test must be loaded with a fresh dataset and may have to do some cleanup afterwards."
   ]
  },
  {
   "cell_type": "code",
   "execution_count": 4,
   "metadata": {},
   "outputs": [],
   "source": [
    "def test_test1():\n",
    "    create_global_test_duck()\n",
    "    \n",
    "    assert duck.color == 'yellow'\n",
    "\n",
    "def test_test2():\n",
    "    duck.set_mood('sad')\n",
    "    \n",
    "def test_test3():\n",
    "    assert duck.is_smiling() == False"
   ]
  },
  {
   "cell_type": "markdown",
   "metadata": {},
   "source": [
    "* The first step when you are debugging your code is to write a new test pinpointing the bug. While it is not always possible to do, those bug catching tests are among the most valuable pieces of code in your project."
   ]
  },
  {
   "cell_type": "code",
   "execution_count": 12,
   "metadata": {},
   "outputs": [
    {
     "name": "stdout",
     "output_type": "stream",
     "text": [
      "Kač kač 😊🦆\n"
     ]
    }
   ],
   "source": [
    "# duck.py\n",
    "class Duck:\n",
    "    def set_mood(self, mood):\n",
    "        self.mood = mood\n",
    "    \n",
    "    def squeek(self):\n",
    "        if self.mood == 'happy':\n",
    "            print('Kač kač 😊🦆')\n",
    "        if self.mood == 'sad':\n",
    "            print('Kaač kaač 😞🦆')\n",
    "\n",
    "d = Duck()\n",
    "d.set_mood('happy')\n",
    "d.squeek()"
   ]
  },
  {
   "cell_type": "markdown",
   "metadata": {},
   "source": [
    "* Use long and descriptive names for testing functions\n",
    "* Make testing code read as much as or even more than the running code.\n",
    "    * Be explicit, verbose."
   ]
  },
  {
   "cell_type": "code",
   "execution_count": 13,
   "metadata": {},
   "outputs": [],
   "source": [
    "def test_abcdef():\n",
    "    duck = create_new_duck()\n",
    "    duck.set_color('yellow')\n",
    "    assert duck.color == 'yellow'"
   ]
  },
  {
   "cell_type": "markdown",
   "metadata": {},
   "source": [
    "* A unit test whose purpose is unclear is not very helpful in this case.\n",
    "* Another use of the testing code is as an introduction to new developers\n",
    "https://docs.python-guide.org/writing/tests/"
   ]
  }
 ],
 "metadata": {
  "kernelspec": {
   "display_name": "Python 3",
   "language": "python",
   "name": "python3"
  },
  "language_info": {
   "codemirror_mode": {
    "name": "ipython",
    "version": 3
   },
   "file_extension": ".py",
   "mimetype": "text/x-python",
   "name": "python",
   "nbconvert_exporter": "python",
   "pygments_lexer": "ipython3",
   "version": "3.8.5"
  }
 },
 "nbformat": 4,
 "nbformat_minor": 4
}
