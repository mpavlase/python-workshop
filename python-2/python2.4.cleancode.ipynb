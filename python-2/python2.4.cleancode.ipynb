{
 "cells": [
  {
   "cell_type": "markdown",
   "metadata": {},
   "source": [
    "# Clean code (overview)\n",
    "\n",
    "Book **Clean code** from **Robert C. Martin**, shorter version with python examples:\n",
    "https://github.com/zedr/clean-code-python\n",
    "\n",
    "![](https://i2.wp.com/commadot.com/wp-content/uploads/2009/02/wtf.png?w=550&ssl=1)\n",
    "reference: https://commadot.com/wtf-per-minute/\n",
    "\n",
    "----"
   ]
  },
  {
   "cell_type": "markdown",
   "metadata": {
    "slideshow": {
     "slide_type": "slide"
    }
   },
   "source": [
    "# Clean code recommendations in short\n",
    "https://gist.github.com/wojteklu/73c6914cc446146b8b533c0988cf8d29#file-clean_code-md\n",
    "\n",
    "## Design rules\n",
    "1. Keep configurable data at high levels.\n",
    "2. Prefer polymorphism to if/else or switch/case.\n",
    "3. Separate multi-threading code.\n",
    "4. Prevent over-configurability.\n",
    "5. Use dependency injection.\n",
    "6. Follow Law of Demeter. A class should know only its direct dependencies."
   ]
  },
  {
   "cell_type": "markdown",
   "metadata": {
    "slideshow": {
     "slide_type": "slide"
    }
   },
   "source": [
    "## Understandability tips\n",
    "1. Be consistent. If you do something a certain way, do all similar things in the same way.\n",
    "2. Use explanatory variables. (`d` vs `elapsed_days`)\n",
    "3. Encapsulate boundary conditions. Boundary conditions are hard to keep track of. Put the processing for them in one place.\n",
    "4. Prefer dedicated value objects to primitive type.\n",
    "5. Avoid logical dependency. Don't write methods which works correctly depending on something else in the same class.\n",
    "6. Avoid negative conditionals. (`if not order_not_present:`)"
   ]
  },
  {
   "cell_type": "markdown",
   "metadata": {},
   "source": [
    "## Names rules\n",
    "1. Choose descriptive and unambiguous names.\n",
    "2. Make meaningful distinction.\\\n",
    "    (`def copy_chars(a1, a2)` vs `def copy_chars(source, destination)`;\\\n",
    "    👎 `Product` vs `ProductData` `ProductInfo`, *Data*, *Info* are noise)\n",
    "3. Use pronounceable names. (`dtrcrd17` vs `Customer`)\n",
    "4. Use searchable names.\n",
    "5. Replace magic numbers with named constants.\\\n",
    "    (`expire_seconds = self.expire + 420` vs. `expire_seconds = self.expire + TIMEOUT`, `TIMEOUT = 7 * 60`)\n",
    "6. Avoid encodings. Don't append prefixes or type information. (``)"
   ]
  },
  {
   "cell_type": "markdown",
   "metadata": {},
   "source": [
    "## Functions rules\n",
    "1. Small.\n",
    "2. Do one thing.\n",
    "3. Use descriptive names.\n",
    "4. Prefer fewer arguments.\n",
    "5. Have no side effects.\n",
    "6. Don't use flag arguments. Split method into several independent methods that can be called from the client without the flag."
   ]
  },
  {
   "cell_type": "markdown",
   "metadata": {},
   "source": [
    "## Comments rules\n",
    "1. Always try to explain yourself in code.\n",
    "2. Don't be redundant.\n",
    "3. Don't add obvious noise.\n",
    "4. Don't use closing brace comments.\n",
    "5. Don't comment out code. Just remove.\n",
    "6. Use as explanation of intent.\n",
    "7. Use as clarification of code.\n",
    "8. Use as warning of consequences."
   ]
  },
  {
   "cell_type": "markdown",
   "metadata": {},
   "source": [
    "## Source code structure\n",
    "1. Separate concepts vertically.\n",
    "2. Related code should appear vertically dense.\n",
    "3. Declare variables close to their usage.\n",
    "4. Dependent functions should be close.\n",
    "5. Similar functions should be close.\n",
    "6. Place functions in the downward direction.\n",
    "7. Keep lines short.\n",
    "8. Don't use horizontal alignment.\n",
    "9. Use white space to associate related things and disassociate weakly related.\n",
    "10. Don't break indentation."
   ]
  },
  {
   "cell_type": "markdown",
   "metadata": {},
   "source": [
    "## Objects and data structures\n",
    "1. Hide internal structure.\n",
    "2. Prefer data structures.\n",
    "3. Avoid hybrids structures (half object and half data).\n",
    "4. Should be small.\n",
    "5. Do one thing.\n",
    "6. Small number of instance variables.\n",
    "7. Base class should know nothing about their derivatives.\n",
    "8. Better to have many functions than to pass some code into a function to select a behavior.\n",
    "9. Prefer non-static methods to static methods."
   ]
  },
  {
   "cell_type": "markdown",
   "metadata": {},
   "source": [
    "## Tests\n",
    "1. One assert per test.\n",
    "2. Readable.\n",
    "3. Fast.\n",
    "4. Independent.\n",
    "5. Repeatable."
   ]
  },
  {
   "cell_type": "markdown",
   "metadata": {},
   "source": [
    "## Code smells\n",
    "1. Rigidity. The software is difficult to change. A small change causes a cascade of subsequent changes.\n",
    "2. Fragility. The software breaks in many places due to a single change.\n",
    "3. Immobility. You cannot reuse parts of the code in other projects because of involved risks and high effort.\n",
    "4. Needless Complexity.\n",
    "5. Needless Repetition.\n",
    "6. Opacity. The code is hard to understand."
   ]
  }
 ],
 "metadata": {
  "kernelspec": {
   "display_name": "Python 3",
   "language": "python",
   "name": "python3"
  },
  "language_info": {
   "codemirror_mode": {
    "name": "ipython",
    "version": 3
   },
   "file_extension": ".py",
   "mimetype": "text/x-python",
   "name": "python",
   "nbconvert_exporter": "python",
   "pygments_lexer": "ipython3",
   "version": "3.8.5"
  }
 },
 "nbformat": 4,
 "nbformat_minor": 4
}
