{
 "cells": [
  {
   "cell_type": "markdown",
   "id": "f39919ce",
   "metadata": {
    "slideshow": {
     "slide_type": "slide"
    }
   },
   "source": [
    "# hej hola from Notebook"
   ]
  },
  {
   "cell_type": "code",
   "execution_count": 5,
   "id": "b88608d2",
   "metadata": {},
   "outputs": [
    {
     "data": {
      "text/plain": [
       "'aaabbbaaabbbaaabbbaaabbbaaabbbaaabbb'"
      ]
     },
     "execution_count": 5,
     "metadata": {},
     "output_type": "execute_result"
    }
   ],
   "source": [
    "6 * 'aaabbb'"
   ]
  },
  {
   "cell_type": "markdown",
   "id": "b4514cd7",
   "metadata": {
    "slideshow": {
     "slide_type": "subslide"
    }
   },
   "source": [
    "this is subslide"
   ]
  },
  {
   "cell_type": "markdown",
   "id": "84f314a6",
   "metadata": {
    "slideshow": {
     "slide_type": "notes"
    }
   },
   "source": [
    "notes for presenter"
   ]
  },
  {
   "cell_type": "markdown",
   "id": "df650e22",
   "metadata": {
    "slideshow": {
     "slide_type": "slide"
    }
   },
   "source": [
    "# second\n",
    "## slide\n",
    "### with 3rd level of titles\n",
    "\n",
    "🙂"
   ]
  }
 ],
 "metadata": {
  "celltoolbar": "Slideshow",
  "kernelspec": {
   "display_name": "Python 3",
   "language": "python",
   "name": "python3"
  },
  "language_info": {
   "codemirror_mode": {
    "name": "ipython",
    "version": 3
   },
   "file_extension": ".py",
   "mimetype": "text/x-python",
   "name": "python",
   "nbconvert_exporter": "python",
   "pygments_lexer": "ipython3",
   "version": "3.9.4"
  }
 },
 "nbformat": 4,
 "nbformat_minor": 5
}
