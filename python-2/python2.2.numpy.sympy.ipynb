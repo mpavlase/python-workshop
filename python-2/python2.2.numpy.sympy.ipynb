{
 "cells": [
  {
   "cell_type": "markdown",
   "id": "wired-stable",
   "metadata": {},
   "source": [
    "# numpy\n",
    "\n",
    "* faster computing than native python (C-wrapper)\n",
    "* favourite in data processing tasks, AI (keras)"
   ]
  },
  {
   "cell_type": "code",
   "execution_count": 10,
   "id": "adolescent-yellow",
   "metadata": {},
   "outputs": [],
   "source": [
    "import numpy as np"
   ]
  },
  {
   "cell_type": "code",
   "execution_count": 87,
   "id": "durable-calgary",
   "metadata": {},
   "outputs": [
    {
     "name": "stdout",
     "output_type": "stream",
     "text": [
      "Collecting numpy\n",
      "  Using cached numpy-1.20.1-cp38-cp38-win_amd64.whl (13.7 MB)\n",
      "Installing collected packages: numpy\n",
      "Successfully installed numpy-1.20.1\n"
     ]
    },
    {
     "name": "stderr",
     "output_type": "stream",
     "text": [
      "WARNING: You are using pip version 20.1.1; however, version 21.0.1 is available.\n",
      "You should consider upgrading via the 'c:\\prace\\python-workshop-org\\venv\\scripts\\python.exe -m pip install --upgrade pip' command.\n"
     ]
    }
   ],
   "source": [
    "# if it's not installed yet, let's use \"magic command\" `!`\n",
    "!pip install numpy"
   ]
  },
  {
   "cell_type": "code",
   "execution_count": 64,
   "id": "utility-space",
   "metadata": {},
   "outputs": [
    {
     "name": "stdout",
     "output_type": "stream",
     "text": [
      "[0 1 2 3 4]\n",
      "[0 1 2 3 4]\n"
     ]
    }
   ],
   "source": [
    "numbers = range(5)\n",
    "a = np.array(numbers)\n",
    "print(a)\n",
    "\n",
    "b = np.arange(5)\n",
    "print(b)"
   ]
  },
  {
   "cell_type": "code",
   "execution_count": 82,
   "id": "olive-wyoming",
   "metadata": {},
   "outputs": [
    {
     "name": "stdout",
     "output_type": "stream",
     "text": [
      "[ True  True  True  True  True]\n"
     ]
    }
   ],
   "source": [
    "# compare each item individually\n",
    "print(a == b)"
   ]
  },
  {
   "cell_type": "code",
   "execution_count": 83,
   "id": "conceptual-violin",
   "metadata": {},
   "outputs": [
    {
     "data": {
      "text/plain": [
       "True"
      ]
     },
     "execution_count": 83,
     "metadata": {},
     "output_type": "execute_result"
    }
   ],
   "source": [
    "# compare list content as singe object\n",
    "list([1,2,3,4,5]) == list([1,2,3,4,5])"
   ]
  },
  {
   "cell_type": "markdown",
   "id": "formal-narrative",
   "metadata": {},
   "source": [
    "# range vs linspace"
   ]
  },
  {
   "cell_type": "code",
   "execution_count": 122,
   "id": "optional-karaoke",
   "metadata": {},
   "outputs": [
    {
     "name": "stdout",
     "output_type": "stream",
     "text": [
      "[0, 1, 2, 3, 4, 5, 6, 7, 8, 9]\n"
     ]
    }
   ],
   "source": [
    "numbers = list(range(0, 10))\n",
    "print(numbers)"
   ]
  },
  {
   "cell_type": "code",
   "execution_count": 123,
   "id": "standing-oriental",
   "metadata": {},
   "outputs": [
    {
     "name": "stdout",
     "output_type": "stream",
     "text": [
      "[ 0.          0.20408163  0.40816327  0.6122449   0.81632653  1.02040816\n",
      "  1.2244898   1.42857143  1.63265306  1.83673469  2.04081633  2.24489796\n",
      "  2.44897959  2.65306122  2.85714286  3.06122449  3.26530612  3.46938776\n",
      "  3.67346939  3.87755102  4.08163265  4.28571429  4.48979592  4.69387755\n",
      "  4.89795918  5.10204082  5.30612245  5.51020408  5.71428571  5.91836735\n",
      "  6.12244898  6.32653061  6.53061224  6.73469388  6.93877551  7.14285714\n",
      "  7.34693878  7.55102041  7.75510204  7.95918367  8.16326531  8.36734694\n",
      "  8.57142857  8.7755102   8.97959184  9.18367347  9.3877551   9.59183673\n",
      "  9.79591837 10.        ]\n"
     ]
    }
   ],
   "source": [
    "numbers = np.linspace(0, 10)\n",
    "print(numbers)"
   ]
  },
  {
   "cell_type": "code",
   "execution_count": 126,
   "id": "falling-banks",
   "metadata": {},
   "outputs": [
    {
     "name": "stdout",
     "output_type": "stream",
     "text": [
      "[ 0.          0.20408163  0.40816327  0.6122449   0.81632653  1.02040816\n",
      "  1.2244898   1.42857143  1.63265306  1.83673469  2.04081633  2.24489796\n",
      "  2.44897959  2.65306122  2.85714286  3.06122449  3.26530612  3.46938776\n",
      "  3.67346939  3.87755102  4.08163265  4.28571429  4.48979592  4.69387755\n",
      "  4.89795918  5.10204082  5.30612245  5.51020408  5.71428571  5.91836735\n",
      "  6.12244898  6.32653061  6.53061224  6.73469388  6.93877551  7.14285714\n",
      "  7.34693878  7.55102041  7.75510204  7.95918367  8.16326531  8.36734694\n",
      "  8.57142857  8.7755102   8.97959184  9.18367347  9.3877551   9.59183673\n",
      "  9.79591837 10.        ]\n"
     ]
    }
   ],
   "source": [
    "numbers = np.linspace(0, 10, 50)\n",
    "print(numbers)"
   ]
  },
  {
   "cell_type": "code",
   "execution_count": 128,
   "id": "martial-heather",
   "metadata": {},
   "outputs": [],
   "source": [
    "np.linspace?"
   ]
  },
  {
   "cell_type": "markdown",
   "id": "offshore-differential",
   "metadata": {},
   "source": [
    "# matrix shape"
   ]
  },
  {
   "cell_type": "code",
   "execution_count": 11,
   "id": "electric-cholesterol",
   "metadata": {},
   "outputs": [
    {
     "data": {
      "text/plain": [
       "array([ 0,  1,  2,  3,  4,  5,  6,  7,  8,  9, 10, 11, 12, 13, 14, 15, 16,\n",
       "       17, 18, 19, 20, 21, 22, 23, 24, 25, 26, 27, 28, 29, 30, 31, 32, 33,\n",
       "       34, 35, 36, 37, 38, 39, 40, 41, 42, 43, 44, 45, 46, 47, 48, 49, 50,\n",
       "       51, 52, 53, 54, 55, 56, 57, 58, 59])"
      ]
     },
     "execution_count": 11,
     "metadata": {},
     "output_type": "execute_result"
    }
   ],
   "source": [
    "matrix = np.arange(60)\n",
    "matrix"
   ]
  },
  {
   "cell_type": "code",
   "execution_count": 245,
   "id": "domestic-simpson",
   "metadata": {},
   "outputs": [
    {
     "data": {
      "text/plain": [
       "(60,)"
      ]
     },
     "execution_count": 245,
     "metadata": {},
     "output_type": "execute_result"
    }
   ],
   "source": [
    "matrix.shape"
   ]
  },
  {
   "cell_type": "code",
   "execution_count": 177,
   "id": "coated-advisory",
   "metadata": {
    "scrolled": true
   },
   "outputs": [
    {
     "data": {
      "text/plain": [
       "array([[ 0,  1,  2,  3,  4,  5,  6,  7,  8,  9, 10, 11, 12, 13, 14],\n",
       "       [15, 16, 17, 18, 19, 20, 21, 22, 23, 24, 25, 26, 27, 28, 29],\n",
       "       [30, 31, 32, 33, 34, 35, 36, 37, 38, 39, 40, 41, 42, 43, 44],\n",
       "       [45, 46, 47, 48, 49, 50, 51, 52, 53, 54, 55, 56, 57, 58, 59]])"
      ]
     },
     "execution_count": 177,
     "metadata": {},
     "output_type": "execute_result"
    }
   ],
   "source": [
    "matrix.reshape(4, 15)"
   ]
  },
  {
   "cell_type": "code",
   "execution_count": 178,
   "id": "hungarian-collar",
   "metadata": {
    "scrolled": true
   },
   "outputs": [
    {
     "data": {
      "text/plain": [
       "array([[ 0,  1,  2,  3,  4,  5,  6,  7,  8,  9],\n",
       "       [10, 11, 12, 13, 14, 15, 16, 17, 18, 19],\n",
       "       [20, 21, 22, 23, 24, 25, 26, 27, 28, 29],\n",
       "       [30, 31, 32, 33, 34, 35, 36, 37, 38, 39],\n",
       "       [40, 41, 42, 43, 44, 45, 46, 47, 48, 49],\n",
       "       [50, 51, 52, 53, 54, 55, 56, 57, 58, 59]])"
      ]
     },
     "execution_count": 178,
     "metadata": {},
     "output_type": "execute_result"
    }
   ],
   "source": [
    "matrix.reshape(6, 10)"
   ]
  },
  {
   "cell_type": "code",
   "execution_count": 179,
   "id": "visible-moscow",
   "metadata": {
    "scrolled": true
   },
   "outputs": [
    {
     "data": {
      "text/plain": [
       "array([ 0,  1,  2,  3,  4,  5,  6,  7,  8,  9, 10, 11, 12, 13, 14, 15, 16,\n",
       "       17, 18, 19, 20, 21, 22, 23, 24, 25, 26, 27, 28, 29, 30, 31, 32, 33,\n",
       "       34, 35, 36, 37, 38, 39, 40, 41, 42, 43, 44, 45, 46, 47, 48, 49, 50,\n",
       "       51, 52, 53, 54, 55, 56, 57, 58, 59])"
      ]
     },
     "execution_count": 179,
     "metadata": {},
     "output_type": "execute_result"
    }
   ],
   "source": [
    "# original shape is just 1D vector\n",
    "matrix.reshape(60,)"
   ]
  },
  {
   "cell_type": "code",
   "execution_count": 250,
   "id": "decent-aluminum",
   "metadata": {},
   "outputs": [
    {
     "name": "stdout",
     "output_type": "stream",
     "text": [
      "[[ 0  1  2  3  4  5  6  7  8  9]\n",
      " [10 11 12 13 14 15 16 17 18 19]\n",
      " [20 21 22 23 24 25 26 27 28 29]\n",
      " [30 31 32 33 34 35 36 37 38 39]\n",
      " [40 41 42 43 44 45 46 47 48 49]\n",
      " [50 51 52 53 54 55 56 57 58 59]]\n",
      "(6, 10)\n"
     ]
    }
   ],
   "source": [
    "m = matrix.reshape(6, 10)\n",
    "print(m)\n",
    "print(m.shape)"
   ]
  },
  {
   "cell_type": "markdown",
   "id": "smoking-football",
   "metadata": {},
   "source": [
    "#### @ show trick with double click to left header of cell"
   ]
  },
  {
   "cell_type": "code",
   "execution_count": 190,
   "id": "altered-synthetic",
   "metadata": {
    "collapsed": true
   },
   "outputs": [
    {
     "name": "stdout",
     "output_type": "stream",
     "text": [
      "[[[ 0  1]\n",
      "  [ 2  3]\n",
      "  [ 4  5]\n",
      "  [ 6  7]\n",
      "  [ 8  9]]\n",
      "\n",
      " [[10 11]\n",
      "  [12 13]\n",
      "  [14 15]\n",
      "  [16 17]\n",
      "  [18 19]]\n",
      "\n",
      " [[20 21]\n",
      "  [22 23]\n",
      "  [24 25]\n",
      "  [26 27]\n",
      "  [28 29]]\n",
      "\n",
      " [[30 31]\n",
      "  [32 33]\n",
      "  [34 35]\n",
      "  [36 37]\n",
      "  [38 39]]\n",
      "\n",
      " [[40 41]\n",
      "  [42 43]\n",
      "  [44 45]\n",
      "  [46 47]\n",
      "  [48 49]]\n",
      "\n",
      " [[50 51]\n",
      "  [52 53]\n",
      "  [54 55]\n",
      "  [56 57]\n",
      "  [58 59]]]\n"
     ]
    }
   ],
   "source": [
    "# transform to 3D\n",
    "print(matrix.reshape(6, 5, 2))"
   ]
  },
  {
   "cell_type": "markdown",
   "id": "stuck-irish",
   "metadata": {},
   "source": [
    "# slicing"
   ]
  },
  {
   "cell_type": "code",
   "execution_count": 251,
   "id": "determined-device",
   "metadata": {},
   "outputs": [
    {
     "name": "stdout",
     "output_type": "stream",
     "text": [
      "[[ 0  1  2  3  4  5  6  7  8  9]\n",
      " [10 11 12 13 14 15 16 17 18 19]\n",
      " [20 21 22 23 24 25 26 27 28 29]\n",
      " [30 31 32 33 34 35 36 37 38 39]\n",
      " [40 41 42 43 44 45 46 47 48 49]\n",
      " [50 51 52 53 54 55 56 57 58 59]]\n"
     ]
    }
   ],
   "source": [
    "print(m)"
   ]
  },
  {
   "cell_type": "code",
   "execution_count": 200,
   "id": "african-edmonton",
   "metadata": {},
   "outputs": [
    {
     "data": {
      "text/plain": [
       "array([10, 11, 12, 13, 14, 15, 16, 17, 18, 19])"
      ]
     },
     "execution_count": 200,
     "metadata": {},
     "output_type": "execute_result"
    }
   ],
   "source": [
    "# slice by 1. dimension (row)\n",
    "m[1]"
   ]
  },
  {
   "cell_type": "code",
   "execution_count": 207,
   "id": "extreme-connecticut",
   "metadata": {},
   "outputs": [
    {
     "data": {
      "text/plain": [
       "array([[10, 11, 12, 13, 14, 15, 16, 17, 18, 19],\n",
       "       [20, 21, 22, 23, 24, 25, 26, 27, 28, 29],\n",
       "       [30, 31, 32, 33, 34, 35, 36, 37, 38, 39]])"
      ]
     },
     "execution_count": 207,
     "metadata": {},
     "output_type": "execute_result"
    }
   ],
   "source": [
    "m[1:4]"
   ]
  },
  {
   "cell_type": "code",
   "execution_count": 210,
   "id": "hidden-nitrogen",
   "metadata": {},
   "outputs": [
    {
     "data": {
      "text/plain": [
       "array([ 2, 12, 22, 32, 42, 52])"
      ]
     },
     "execution_count": 210,
     "metadata": {},
     "output_type": "execute_result"
    }
   ],
   "source": [
    "# slice by 2. dimension (column)\n",
    "m[:, 2]"
   ]
  },
  {
   "cell_type": "code",
   "execution_count": 229,
   "id": "planned-period",
   "metadata": {},
   "outputs": [
    {
     "data": {
      "text/plain": [
       "array([[23, 24, 25, 26],\n",
       "       [33, 34, 35, 36]])"
      ]
     },
     "execution_count": 229,
     "metadata": {},
     "output_type": "execute_result"
    }
   ],
   "source": [
    "# subset (indexing from 0!)\n",
    "m[2:4, 3:7]"
   ]
  },
  {
   "cell_type": "code",
   "execution_count": 229,
   "id": "literary-yukon",
   "metadata": {
    "scrolled": true
   },
   "outputs": [
    {
     "data": {
      "text/plain": [
       "array([[23, 24, 25, 26],\n",
       "       [33, 34, 35, 36]])"
      ]
     },
     "execution_count": 229,
     "metadata": {},
     "output_type": "execute_result"
    }
   ],
   "source": [
    "# subset (indexing from 0!)\n",
    "m[2:4, 3:7]"
   ]
  },
  {
   "cell_type": "markdown",
   "id": "invalid-belize",
   "metadata": {},
   "source": [
    "#### @ slice by axes with comma, or [ ]"
   ]
  },
  {
   "cell_type": "code",
   "execution_count": 267,
   "id": "wooden-preference",
   "metadata": {},
   "outputs": [
    {
     "data": {
      "text/plain": [
       "25"
      ]
     },
     "execution_count": 267,
     "metadata": {},
     "output_type": "execute_result"
    }
   ],
   "source": [
    "m[2][5]"
   ]
  },
  {
   "cell_type": "code",
   "execution_count": 268,
   "id": "magnetic-rebel",
   "metadata": {},
   "outputs": [
    {
     "data": {
      "text/plain": [
       "25"
      ]
     },
     "execution_count": 268,
     "metadata": {},
     "output_type": "execute_result"
    }
   ],
   "source": [
    "m[2,5]"
   ]
  },
  {
   "cell_type": "markdown",
   "id": "married-place",
   "metadata": {},
   "source": [
    "# modify matrix by assignment of single value\n",
    "#### @ single value replacement"
   ]
  },
  {
   "cell_type": "code",
   "execution_count": 448,
   "id": "contrary-paradise",
   "metadata": {},
   "outputs": [
    {
     "name": "stdout",
     "output_type": "stream",
     "text": [
      "[[  0   1   2   3   4   5   6   7   8   9]\n",
      " [ 10  11  12  13  14  15  16  17  18  19]\n",
      " [ 20  21  22  23  24  25  26  27  28  29]\n",
      " [ 30  31  32  33  34   0   0  37  38  39]\n",
      " [ 40  41  42  43  44   0   0  47  48  49]\n",
      " [ 50  51 999  53  54  55  56  57  58  59]]\n"
     ]
    }
   ],
   "source": [
    "m[5,2] = 999\n",
    "print(m)"
   ]
  },
  {
   "cell_type": "code",
   "execution_count": 449,
   "id": "friendly-fireplace",
   "metadata": {},
   "outputs": [
    {
     "name": "stdout",
     "output_type": "stream",
     "text": [
      "999\n"
     ]
    }
   ],
   "source": [
    "number = m[5,2]\n",
    "print(number)"
   ]
  },
  {
   "cell_type": "code",
   "execution_count": 450,
   "id": "hawaiian-programmer",
   "metadata": {},
   "outputs": [
    {
     "name": "stdout",
     "output_type": "stream",
     "text": [
      "123\n"
     ]
    }
   ],
   "source": [
    "number = 123\n",
    "print(number)"
   ]
  },
  {
   "cell_type": "code",
   "execution_count": 451,
   "id": "silver-palace",
   "metadata": {
    "scrolled": true
   },
   "outputs": [
    {
     "name": "stdout",
     "output_type": "stream",
     "text": [
      "[[  0   1   2   3   4   5   6   7   8   9]\n",
      " [ 10  11  12  13  14  15  16  17  18  19]\n",
      " [ 20  21  22  23  24  25  26  27  28  29]\n",
      " [ 30  31  32  33  34   0   0  37  38  39]\n",
      " [ 40  41  42  43  44   0   0  47  48  49]\n",
      " [ 50  51 999  53  54  55  56  57  58  59]]\n"
     ]
    }
   ],
   "source": [
    "# and it's not modified (as expected)\n",
    "print(m)"
   ]
  },
  {
   "cell_type": "markdown",
   "id": "entire-milwaukee",
   "metadata": {},
   "source": [
    "# modify matrix by block assignment"
   ]
  },
  {
   "cell_type": "code",
   "execution_count": 455,
   "id": "residential-blanket",
   "metadata": {},
   "outputs": [
    {
     "name": "stdout",
     "output_type": "stream",
     "text": [
      "[[ 0  1  2  3  4  5  6  7  8  9]\n",
      " [10 11 12 13 14 15 16 17 18 19]\n",
      " [20 21 22 23 24 25 26 27 28 29]\n",
      " [30 31 32 33 34 35 36 37 38 39]\n",
      " [40 41 42 43 44 45 46 47 48 49]\n",
      " [50 51 52 53 54 55 56 57 58 59]]\n"
     ]
    }
   ],
   "source": [
    "# maybe there is prettier way\n",
    "m = np.arange(60).reshape(6, 10)\n",
    "print(m)"
   ]
  },
  {
   "cell_type": "markdown",
   "id": "virtual-header",
   "metadata": {},
   "source": [
    "### np.zeros"
   ]
  },
  {
   "cell_type": "code",
   "execution_count": 456,
   "id": "level-footage",
   "metadata": {},
   "outputs": [
    {
     "name": "stdout",
     "output_type": "stream",
     "text": [
      "[[0. 0.]\n",
      " [0. 0.]]\n"
     ]
    }
   ],
   "source": [
    "zeros = np.zeros((2,2))\n",
    "print(zeros)"
   ]
  },
  {
   "cell_type": "code",
   "execution_count": 457,
   "id": "aware-fetish",
   "metadata": {},
   "outputs": [
    {
     "name": "stdout",
     "output_type": "stream",
     "text": [
      "[[35 36]\n",
      " [45 46]]\n"
     ]
    }
   ],
   "source": [
    "print(m[3:5, 5:7])"
   ]
  },
  {
   "cell_type": "markdown",
   "id": "revolutionary-mouth",
   "metadata": {},
   "source": [
    "note: same shape"
   ]
  },
  {
   "cell_type": "code",
   "execution_count": 458,
   "id": "seeing-smell",
   "metadata": {
    "scrolled": true
   },
   "outputs": [
    {
     "name": "stdout",
     "output_type": "stream",
     "text": [
      "[[ 0  1  2  3  4  5  6  7  8  9]\n",
      " [10 11 12 13 14 15 16 17 18 19]\n",
      " [20 21 22 23 24 25 26 27 28 29]\n",
      " [30 31 32 33 34  0  0 37 38 39]\n",
      " [40 41 42 43 44  0  0 47 48 49]\n",
      " [50 51 52 53 54 55 56 57 58 59]]\n"
     ]
    }
   ],
   "source": [
    "m[3:5, 5:7] = zeros\n",
    "print(m)"
   ]
  },
  {
   "cell_type": "markdown",
   "id": "billion-denver",
   "metadata": {},
   "source": [
    "# matrix views - replacement within submatrix\n",
    "\n",
    "* slicing returns *views* (=shallow copy)\n",
    "* `.copy()` to get deep copy"
   ]
  },
  {
   "cell_type": "code",
   "execution_count": 460,
   "id": "dated-laundry",
   "metadata": {
    "scrolled": true
   },
   "outputs": [
    {
     "name": "stdout",
     "output_type": "stream",
     "text": [
      "[[ 0  1  2  3  4  5  6  7  8  9]\n",
      " [10 11 12 13 14 15 16 17 18 19]\n",
      " [20 21 22 23 24 25 26 27 28 29]\n",
      " [30 31 32 33 34 35 36 37 38 39]\n",
      " [40 41 42 43 44 45 46 47 48 49]\n",
      " [50 51 52 53 54 55 56 57 58 59]]\n"
     ]
    }
   ],
   "source": [
    "m = np.arange(60).reshape(6, 10)\n",
    "print(m)"
   ]
  },
  {
   "cell_type": "code",
   "execution_count": 461,
   "id": "directed-estonia",
   "metadata": {},
   "outputs": [
    {
     "name": "stdout",
     "output_type": "stream",
     "text": [
      "[[ 0  1  2]\n",
      " [10 11 12]\n",
      " [20 21 22]]\n"
     ]
    }
   ],
   "source": [
    "submatrix = m[0:3, 0:3]\n",
    "print(submatrix)"
   ]
  },
  {
   "cell_type": "code",
   "execution_count": 466,
   "id": "portable-essence",
   "metadata": {},
   "outputs": [
    {
     "name": "stdout",
     "output_type": "stream",
     "text": [
      "[[   0    1    2]\n",
      " [  10 9999   12]\n",
      " [  20   21   22]]\n"
     ]
    }
   ],
   "source": [
    "submatrix[1,1] = 9999\n",
    "print(submatrix)"
   ]
  },
  {
   "cell_type": "code",
   "execution_count": 467,
   "id": "decimal-contents",
   "metadata": {},
   "outputs": [
    {
     "name": "stdout",
     "output_type": "stream",
     "text": [
      "[[   0    1    2    3    4    5    6    7    8    9]\n",
      " [  10 9999   12   13   14   15   16   17   18   19]\n",
      " [  20   21   22   23   24   25   26   27   28   29]\n",
      " [  30   31   32   33   34   35   36   37   38   39]\n",
      " [  40   41   42   43   44   45   46   47   48   49]\n",
      " [  50   51   52   53   54   55   56   57   58   59]]\n"
     ]
    }
   ],
   "source": [
    "print(m)"
   ]
  },
  {
   "cell_type": "markdown",
   "id": "derived-devil",
   "metadata": {},
   "source": [
    "# Matrix basics"
   ]
  },
  {
   "cell_type": "markdown",
   "id": "mechanical-throat",
   "metadata": {},
   "source": [
    "### broadcasting"
   ]
  },
  {
   "cell_type": "code",
   "execution_count": 425,
   "id": "proud-clone",
   "metadata": {},
   "outputs": [
    {
     "name": "stdout",
     "output_type": "stream",
     "text": [
      "[[1 2]\n",
      " [3 4]]\n"
     ]
    }
   ],
   "source": [
    "a = np.array([[1,2],\n",
    "    [3,4]\n",
    "])\n",
    "print(a)"
   ]
  },
  {
   "cell_type": "code",
   "execution_count": 426,
   "id": "editorial-philosophy",
   "metadata": {},
   "outputs": [
    {
     "data": {
      "text/plain": [
       "array([[101, 102],\n",
       "       [103, 104]])"
      ]
     },
     "execution_count": 426,
     "metadata": {},
     "output_type": "execute_result"
    }
   ],
   "source": [
    "a + 100"
   ]
  },
  {
   "cell_type": "code",
   "execution_count": 427,
   "id": "ongoing-count",
   "metadata": {},
   "outputs": [
    {
     "data": {
      "text/plain": [
       "array([[ 5, 10],\n",
       "       [15, 20]])"
      ]
     },
     "execution_count": 427,
     "metadata": {},
     "output_type": "execute_result"
    }
   ],
   "source": [
    "a * 5"
   ]
  },
  {
   "cell_type": "markdown",
   "id": "economic-apple",
   "metadata": {},
   "source": [
    "#### `*` will still apply broadcasting!"
   ]
  },
  {
   "cell_type": "code",
   "execution_count": 436,
   "id": "subtle-divide",
   "metadata": {},
   "outputs": [
    {
     "data": {
      "text/plain": [
       "array([[ 1, 10],\n",
       "       [ 3, 20]])"
      ]
     },
     "execution_count": 436,
     "metadata": {},
     "output_type": "execute_result"
    }
   ],
   "source": [
    "# np.array([1,5]) works as well\n",
    "# a * np.array([1, 5])\n",
    "(a * np.array([1, 5]))"
   ]
  },
  {
   "cell_type": "markdown",
   "id": "enclosed-moment",
   "metadata": {},
   "source": [
    "# matrix multiplication"
   ]
  },
  {
   "cell_type": "code",
   "execution_count": 432,
   "id": "contemporary-december",
   "metadata": {},
   "outputs": [
    {
     "data": {
      "text/plain": [
       "array([11, 23])"
      ]
     },
     "execution_count": 432,
     "metadata": {},
     "output_type": "execute_result"
    }
   ],
   "source": [
    "a.dot([1,5])"
   ]
  },
  {
   "cell_type": "markdown",
   "id": "graduate-search",
   "metadata": {},
   "source": [
    "matrix muliplication has special operator in python `@`"
   ]
  },
  {
   "cell_type": "code",
   "execution_count": 431,
   "id": "generous-premiere",
   "metadata": {},
   "outputs": [
    {
     "data": {
      "text/plain": [
       "array([11, 23])"
      ]
     },
     "execution_count": 431,
     "metadata": {},
     "output_type": "execute_result"
    }
   ],
   "source": [
    "a @ np.array([1, 5])"
   ]
  },
  {
   "cell_type": "markdown",
   "id": "modular-minimum",
   "metadata": {},
   "source": [
    "## transposing matrix"
   ]
  },
  {
   "cell_type": "code",
   "execution_count": 437,
   "id": "secondary-kernel",
   "metadata": {},
   "outputs": [
    {
     "data": {
      "text/plain": [
       "array([[1, 2],\n",
       "       [3, 4]])"
      ]
     },
     "execution_count": 437,
     "metadata": {},
     "output_type": "execute_result"
    }
   ],
   "source": [
    "a"
   ]
  },
  {
   "cell_type": "code",
   "execution_count": 438,
   "id": "attended-swift",
   "metadata": {
    "scrolled": true
   },
   "outputs": [
    {
     "data": {
      "text/plain": [
       "array([[1, 3],\n",
       "       [2, 4]])"
      ]
     },
     "execution_count": 438,
     "metadata": {},
     "output_type": "execute_result"
    }
   ],
   "source": [
    "a.T"
   ]
  },
  {
   "cell_type": "markdown",
   "id": "saving-suicide",
   "metadata": {},
   "source": [
    "# compare matrixes"
   ]
  },
  {
   "cell_type": "code",
   "execution_count": 470,
   "id": "imperial-toyota",
   "metadata": {},
   "outputs": [
    {
     "name": "stdout",
     "output_type": "stream",
     "text": [
      "a=array([0, 1, 2, 3, 4])\n",
      "b=array([0, 1, 2, 3, 4])\n"
     ]
    }
   ],
   "source": [
    "a = np.arange(5)\n",
    "b = np.arange(5)\n",
    "\n",
    "print(f'{a=}')\n",
    "print(f'{b=}')"
   ]
  },
  {
   "cell_type": "markdown",
   "id": "altered-adams",
   "metadata": {},
   "source": [
    "#### @ compare as single entity"
   ]
  },
  {
   "cell_type": "code",
   "execution_count": 471,
   "id": "packed-toilet",
   "metadata": {},
   "outputs": [
    {
     "data": {
      "text/plain": [
       "True"
      ]
     },
     "execution_count": 471,
     "metadata": {},
     "output_type": "execute_result"
    }
   ],
   "source": [
    "list(a) == list(b)"
   ]
  },
  {
   "cell_type": "markdown",
   "id": "intelligent-democrat",
   "metadata": {},
   "source": [
    "#### @ item by item comparison"
   ]
  },
  {
   "cell_type": "code",
   "execution_count": 472,
   "id": "adjacent-shelter",
   "metadata": {},
   "outputs": [
    {
     "data": {
      "text/plain": [
       "array([ True,  True,  True,  True,  True])"
      ]
     },
     "execution_count": 472,
     "metadata": {},
     "output_type": "execute_result"
    }
   ],
   "source": [
    "a == b"
   ]
  },
  {
   "cell_type": "markdown",
   "id": "structured-lobby",
   "metadata": {},
   "source": [
    "#### @ comapre operators as 'mask'"
   ]
  },
  {
   "cell_type": "code",
   "execution_count": 473,
   "id": "exempt-madrid",
   "metadata": {
    "scrolled": true
   },
   "outputs": [
    {
     "data": {
      "text/plain": [
       "array([False, False,  True,  True,  True])"
      ]
     },
     "execution_count": 473,
     "metadata": {},
     "output_type": "execute_result"
    }
   ],
   "source": [
    "a >= 2"
   ]
  },
  {
   "cell_type": "code",
   "execution_count": 375,
   "id": "mexican-victorian",
   "metadata": {},
   "outputs": [
    {
     "data": {
      "text/plain": [
       "array([2, 3, 4])"
      ]
     },
     "execution_count": 375,
     "metadata": {},
     "output_type": "execute_result"
    }
   ],
   "source": [
    "a[a >= 2]"
   ]
  },
  {
   "cell_type": "markdown",
   "id": "solved-vietnam",
   "metadata": {},
   "source": [
    "#### @ is same as mask from list of bools"
   ]
  },
  {
   "cell_type": "code",
   "execution_count": 474,
   "id": "healthy-crisis",
   "metadata": {},
   "outputs": [
    {
     "data": {
      "text/plain": [
       "array([2, 3, 4])"
      ]
     },
     "execution_count": 474,
     "metadata": {},
     "output_type": "execute_result"
    }
   ],
   "source": [
    "mask = [False, False, True, True, True]\n",
    "a[mask]"
   ]
  },
  {
   "cell_type": "markdown",
   "id": "pressed-paraguay",
   "metadata": {},
   "source": [
    "# `.flatten` vs `.ravel`\n",
    "\n",
    "* `.flatten` creates deep copy\n",
    "* `.ravel` work as *view* (more memory efficient)"
   ]
  },
  {
   "cell_type": "code",
   "execution_count": 541,
   "id": "seventh-carroll",
   "metadata": {},
   "outputs": [
    {
     "name": "stdout",
     "output_type": "stream",
     "text": [
      "[[1 2]\n",
      " [3 4]]\n"
     ]
    }
   ],
   "source": [
    "matrix = np.array(([1,2], [3,4]))\n",
    "print(matrix)"
   ]
  },
  {
   "cell_type": "code",
   "execution_count": 535,
   "id": "standard-costume",
   "metadata": {},
   "outputs": [
    {
     "name": "stdout",
     "output_type": "stream",
     "text": [
      "[1 2 3 4]\n"
     ]
    }
   ],
   "source": [
    "changed = matrix.ravel()\n",
    "print(changed)"
   ]
  },
  {
   "cell_type": "code",
   "execution_count": 542,
   "id": "decreased-payday",
   "metadata": {},
   "outputs": [
    {
     "name": "stdout",
     "output_type": "stream",
     "text": [
      "[1 2 3 4]\n"
     ]
    }
   ],
   "source": [
    "changed = matrix.flatten()\n",
    "print(changed)"
   ]
  },
  {
   "cell_type": "code",
   "execution_count": 543,
   "id": "sharing-architecture",
   "metadata": {
    "scrolled": true
   },
   "outputs": [
    {
     "name": "stdout",
     "output_type": "stream",
     "text": [
      "[  1   2   3 999]\n",
      "\n",
      "[[1 2]\n",
      " [3 4]]\n"
     ]
    }
   ],
   "source": [
    "changed[3] = 999\n",
    "print(changed)\n",
    "print(\"\")\n",
    "print(matrix)"
   ]
  },
  {
   "cell_type": "markdown",
   "id": "exotic-revolution",
   "metadata": {},
   "source": [
    "# save / load `np.ndarray`\n",
    "\n",
    "* `np.save`, `np.load` - save dimension, datatype, ...\n",
    "* `np.savetxt`, `np.loadtxt` - save as CSV"
   ]
  },
  {
   "cell_type": "code",
   "execution_count": 566,
   "id": "homeless-miniature",
   "metadata": {},
   "outputs": [
    {
     "name": "stdout",
     "output_type": "stream",
     "text": [
      "[[0 1 2 3 4]\n",
      " [5 6 7 8 9]]\n"
     ]
    }
   ],
   "source": [
    "vector = np.arange(10).reshape(2,5)\n",
    "print(vector)\n",
    "np.save('export.npy', vector)\n",
    "np.savetxt('export.csv', vector)"
   ]
  },
  {
   "cell_type": "code",
   "execution_count": 570,
   "id": "neural-calendar",
   "metadata": {},
   "outputs": [
    {
     "data": {
      "text/plain": [
       "array([[0, 1, 2, 3, 4],\n",
       "       [5, 6, 7, 8, 9]])"
      ]
     },
     "execution_count": 570,
     "metadata": {},
     "output_type": "execute_result"
    }
   ],
   "source": [
    "np.load('export.npy')"
   ]
  },
  {
   "cell_type": "code",
   "execution_count": 571,
   "id": "secure-officer",
   "metadata": {},
   "outputs": [
    {
     "data": {
      "text/plain": [
       "array([[0., 1., 2., 3., 4.],\n",
       "       [5., 6., 7., 8., 9.]])"
      ]
     },
     "execution_count": 571,
     "metadata": {},
     "output_type": "execute_result"
    }
   ],
   "source": [
    "np.loadtxt('export.csv')"
   ]
  },
  {
   "cell_type": "code",
   "execution_count": null,
   "id": "engaged-reception",
   "metadata": {},
   "outputs": [],
   "source": [
    "%load export.csv"
   ]
  },
  {
   "cell_type": "code",
   "execution_count": 17,
   "id": "prostate-ballot",
   "metadata": {},
   "outputs": [
    {
     "data": {
      "text/plain": [
       "array([[ 0,  1,  2,  3,  4,  5,  6,  7,  8,  9],\n",
       "       [10, 11, 12, 13, 14, 15, 16, 17, 18, 19],\n",
       "       [20, 21, 22, 23, 24, 25, 26, 27, 28, 29],\n",
       "       [30, 31, 32, 33, 34, 35, 36, 37, 38, 39],\n",
       "       [40, 41, 42, 43, 44, 45, 46, 47, 48, 49],\n",
       "       [50, 51, 52, 53, 54, 55, 56, 57, 58, 59]])"
      ]
     },
     "execution_count": 17,
     "metadata": {},
     "output_type": "execute_result"
    }
   ],
   "source": [
    "m = matrix.reshape(6, 10)\n",
    "m"
   ]
  },
  {
   "cell_type": "markdown",
   "id": "shaped-submission",
   "metadata": {},
   "source": [
    "# let numpy to solve linear equations"
   ]
  },
  {
   "cell_type": "markdown",
   "id": "quality-batman",
   "metadata": {},
   "source": [
    "(TODO)"
   ]
  },
  {
   "cell_type": "markdown",
   "id": "handmade-database",
   "metadata": {},
   "source": [
    "# sympy"
   ]
  },
  {
   "cell_type": "markdown",
   "id": "acting-economy",
   "metadata": {},
   "source": [
    "(TODO)"
   ]
  }
 ],
 "metadata": {
  "celltoolbar": "Slideshow",
  "kernelspec": {
   "display_name": "Python 3",
   "language": "python",
   "name": "python3"
  },
  "language_info": {
   "codemirror_mode": {
    "name": "ipython",
    "version": 3
   },
   "file_extension": ".py",
   "mimetype": "text/x-python",
   "name": "python",
   "nbconvert_exporter": "python",
   "pygments_lexer": "ipython3",
   "version": "3.8.6"
  }
 },
 "nbformat": 4,
 "nbformat_minor": 5
}
