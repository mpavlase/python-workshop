{
 "cells": [
  {
   "cell_type": "markdown",
   "metadata": {},
   "source": [
    "# OOP basics (object oriented programming)\n",
    "\n",
    "- ? object\n",
    "  - in python, it's every value (not in other languages: C, JS)\n",
    "- general property of object is fact, that contains *data* and *behaviour*, those works with them\n",
    "\n",
    "If we don't have objects, we will end up by plenty of similar functions like `str_count`, `str_upper` etc.\n",
    "\n",
    "**Example**: method `count` can looks like this:"
   ]
  },
  {
   "cell_type": "code",
   "execution_count": 1,
   "metadata": {
    "code_folding": []
   },
   "outputs": [],
   "source": [
    "def count(input_string, char):\n",
    "    amount = 0\n",
    "    for c in input_string:\n",
    "        if c == char:\n",
    "            amount = amount + 1\n",
    "    return amount"
   ]
  },
  {
   "cell_type": "markdown",
   "metadata": {},
   "source": [
    "... method will be same, even input strings can differ\n",
    "\n",
    "Common behaviour is given by *type*, or *class* - it's the same in python"
   ]
  },
  {
   "cell_type": "code",
   "execution_count": 2,
   "metadata": {},
   "outputs": [
    {
     "name": "stdout",
     "output_type": "stream",
     "text": [
      "<class 'int'>\n"
     ]
    }
   ],
   "source": [
    "print(type(0))"
   ]
  },
  {
   "cell_type": "code",
   "execution_count": 3,
   "metadata": {},
   "outputs": [
    {
     "name": "stdout",
     "output_type": "stream",
     "text": [
      "<class 'bool'>\n"
     ]
    }
   ],
   "source": [
    "print(type(True))"
   ]
  },
  {
   "cell_type": "code",
   "execution_count": 4,
   "metadata": {},
   "outputs": [
    {
     "name": "stdout",
     "output_type": "stream",
     "text": [
      "<class 'str'>\n"
     ]
    }
   ],
   "source": [
    "print(type(\"abc\"))"
   ]
  },
  {
   "cell_type": "code",
   "execution_count": 5,
   "metadata": {},
   "outputs": [
    {
     "name": "stdout",
     "output_type": "stream",
     "text": [
      "<class 'type'>\n"
     ]
    }
   ],
   "source": [
    "print(type(str))"
   ]
  },
  {
   "cell_type": "markdown",
   "metadata": {},
   "source": [
    "**class** is description how all objects of such type behaves.\n",
    "\n",
    "For example `<class 'int'>` contains everything that you can do with whole numbers - add, can be converted to string etc."
   ]
  },
  {
   "cell_type": "code",
   "execution_count": 6,
   "metadata": {},
   "outputs": [
    {
     "data": {
      "text/plain": [
       "True"
      ]
     },
     "execution_count": 6,
     "metadata": {},
     "output_type": "execute_result"
    }
   ],
   "source": [
    "type('a cat') == str"
   ]
  },
  {
   "cell_type": "markdown",
   "metadata": {},
   "source": [
    "# motivation for classes\n",
    "\n",
    "**micka**, **mourek** and **ruzenka** are names for cats 🐱"
   ]
  },
  {
   "cell_type": "code",
   "execution_count": 7,
   "metadata": {},
   "outputs": [
    {
     "name": "stdout",
     "output_type": "stream",
     "text": [
      "micka={'name': 'Micka'}\n",
      "mourek={'name': 'Mourek'}\n"
     ]
    }
   ],
   "source": [
    "micka = dict()\n",
    "micka['name'] = 'Micka'\n",
    "\n",
    "mourek = dict()\n",
    "mourek['name'] = 'Mourek'\n",
    "\n",
    "print(f'{micka=}')\n",
    "print(f'{mourek=}')"
   ]
  },
  {
   "cell_type": "markdown",
   "metadata": {},
   "source": [
    "Let's add some action."
   ]
  },
  {
   "cell_type": "code",
   "execution_count": 8,
   "metadata": {},
   "outputs": [
    {
     "name": "stdout",
     "output_type": "stream",
     "text": [
      "Hi, my name is Micka.\n",
      "Hi, my name is Mourek.\n"
     ]
    }
   ],
   "source": [
    "def say_hi(cat):\n",
    "    print(f\"Hi, my name is {cat['name']}.\")\n",
    "    \n",
    "say_hi(micka)\n",
    "say_hi(mourek)"
   ]
  },
  {
   "cell_type": "code",
   "execution_count": 9,
   "metadata": {},
   "outputs": [
    {
     "ename": "KeyError",
     "evalue": "'name'",
     "output_type": "error",
     "traceback": [
      "\u001b[1;31m---------------------------------------------------------------------------\u001b[0m",
      "\u001b[1;31mKeyError\u001b[0m                                  Traceback (most recent call last)",
      "\u001b[1;32m<ipython-input-9-763222ce044f>\u001b[0m in \u001b[0;36m<module>\u001b[1;34m\u001b[0m\n\u001b[0;32m      2\u001b[0m \u001b[0mruzenka\u001b[0m\u001b[1;33m[\u001b[0m\u001b[1;34m'nick'\u001b[0m\u001b[1;33m]\u001b[0m \u001b[1;33m=\u001b[0m \u001b[1;34m'Růženka'\u001b[0m\u001b[1;33m\u001b[0m\u001b[1;33m\u001b[0m\u001b[0m\n\u001b[0;32m      3\u001b[0m \u001b[1;33m\u001b[0m\u001b[0m\n\u001b[1;32m----> 4\u001b[1;33m \u001b[0msay_hi\u001b[0m\u001b[1;33m(\u001b[0m\u001b[0mruzenka\u001b[0m\u001b[1;33m)\u001b[0m\u001b[1;33m\u001b[0m\u001b[1;33m\u001b[0m\u001b[0m\n\u001b[0m",
      "\u001b[1;32m<ipython-input-8-da9ec95bca2e>\u001b[0m in \u001b[0;36msay_hi\u001b[1;34m(cat)\u001b[0m\n\u001b[0;32m      1\u001b[0m \u001b[1;32mdef\u001b[0m \u001b[0msay_hi\u001b[0m\u001b[1;33m(\u001b[0m\u001b[0mcat\u001b[0m\u001b[1;33m)\u001b[0m\u001b[1;33m:\u001b[0m\u001b[1;33m\u001b[0m\u001b[1;33m\u001b[0m\u001b[0m\n\u001b[1;32m----> 2\u001b[1;33m     \u001b[0mprint\u001b[0m\u001b[1;33m(\u001b[0m\u001b[1;34mf\"Hi, my name is {cat['name']}.\"\u001b[0m\u001b[1;33m)\u001b[0m\u001b[1;33m\u001b[0m\u001b[1;33m\u001b[0m\u001b[0m\n\u001b[0m\u001b[0;32m      3\u001b[0m \u001b[1;33m\u001b[0m\u001b[0m\n\u001b[0;32m      4\u001b[0m \u001b[0msay_hi\u001b[0m\u001b[1;33m(\u001b[0m\u001b[0mmicka\u001b[0m\u001b[1;33m)\u001b[0m\u001b[1;33m\u001b[0m\u001b[1;33m\u001b[0m\u001b[0m\n\u001b[0;32m      5\u001b[0m \u001b[0msay_hi\u001b[0m\u001b[1;33m(\u001b[0m\u001b[0mmourek\u001b[0m\u001b[1;33m)\u001b[0m\u001b[1;33m\u001b[0m\u001b[1;33m\u001b[0m\u001b[0m\n",
      "\u001b[1;31mKeyError\u001b[0m: 'name'"
     ]
    }
   ],
   "source": [
    "ruzenka = dict()\n",
    "ruzenka['nick'] = 'Růženka'\n",
    "\n",
    "say_hi(ruzenka)"
   ]
  },
  {
   "cell_type": "markdown",
   "metadata": {},
   "source": [
    "🙁\n",
    "\n",
    "Let's create a new **type** that describes our harem of cats."
   ]
  },
  {
   "cell_type": "markdown",
   "metadata": {},
   "source": [
    "# class\n",
    "\n",
    "- name of class starts with capital first letter (convention).\n",
    "- Reminder:\n",
    "  > It's a template that describes how all objects of this type should look (as structure) and behave.\n",
    "- [EN] *meow* it's [CZ] *mňau*"
   ]
  },
  {
   "cell_type": "code",
   "execution_count": 10,
   "metadata": {},
   "outputs": [],
   "source": [
    "class Cat:\n",
    "    def meow(self):\n",
    "        print('Meow!')"
   ]
  },
  {
   "cell_type": "markdown",
   "metadata": {},
   "source": [
    "* `class Cat(object)` it's deprecated for a while - not needed anymore. It came from python2."
   ]
  },
  {
   "cell_type": "code",
   "execution_count": 11,
   "metadata": {},
   "outputs": [
    {
     "name": "stdout",
     "output_type": "stream",
     "text": [
      "Meow!\n",
      "Meow!\n",
      "<__main__.Cat object at 0x0000021F8E0AB3D0>\n",
      "<__main__.Cat object at 0x0000021F8E0AB850>\n"
     ]
    }
   ],
   "source": [
    "micka = Cat()\n",
    "micka.meow()\n",
    "\n",
    "mourek = Cat()\n",
    "mourek.meow()\n",
    "\n",
    "# maybe demonstrate it by `id`\n",
    "print(micka)\n",
    "print(mourek)"
   ]
  },
  {
   "cell_type": "markdown",
   "metadata": {},
   "source": [
    "instances aren't same..."
   ]
  },
  {
   "cell_type": "code",
   "execution_count": 12,
   "metadata": {},
   "outputs": [
    {
     "data": {
      "text/plain": [
       "False"
      ]
     },
     "execution_count": 12,
     "metadata": {},
     "output_type": "execute_result"
    }
   ],
   "source": [
    "micka == mourek"
   ]
  },
  {
   "cell_type": "markdown",
   "metadata": {},
   "source": [
    "but their type actually are."
   ]
  },
  {
   "cell_type": "code",
   "execution_count": 13,
   "metadata": {},
   "outputs": [
    {
     "data": {
      "text/plain": [
       "True"
      ]
     },
     "execution_count": 13,
     "metadata": {},
     "output_type": "execute_result"
    }
   ],
   "source": [
    "type(micka) == type(mourek)"
   ]
  },
  {
   "cell_type": "markdown",
   "metadata": {},
   "source": [
    "### What is `self`?\n",
    "\n",
    "it's an **instance** descriptor. The living individual (and individual 🙂) of class."
   ]
  },
  {
   "cell_type": "code",
   "execution_count": 14,
   "metadata": {},
   "outputs": [
    {
     "name": "stdout",
     "output_type": "stream",
     "text": [
      "<__main__.Cat object at 0x0000021F8E0AB460>\n",
      "<__main__.Cat object at 0x0000021F8E0AB460>\n"
     ]
    }
   ],
   "source": [
    "class Cat:\n",
    "    def meow(self):\n",
    "        print('Meow!')\n",
    "    \n",
    "    def print_self(self):\n",
    "        print(self)\n",
    "\n",
    "cat = Cat()\n",
    "\n",
    "print(cat)\n",
    "cat.print_self()"
   ]
  },
  {
   "cell_type": "markdown",
   "metadata": {},
   "source": [
    "... ok, but they don't have name yet."
   ]
  },
  {
   "cell_type": "code",
   "execution_count": 15,
   "metadata": {},
   "outputs": [
    {
     "name": "stdout",
     "output_type": "stream",
     "text": [
      "Mourek\n"
     ]
    }
   ],
   "source": [
    "mourek.name = 'Mourek'\n",
    "print(mourek.name)"
   ]
  },
  {
   "cell_type": "code",
   "execution_count": 16,
   "metadata": {},
   "outputs": [],
   "source": [
    "class Cat:\n",
    "    def meow(self):\n",
    "        print(f'{self.name}: Meow!')"
   ]
  },
  {
   "cell_type": "code",
   "execution_count": 17,
   "metadata": {},
   "outputs": [
    {
     "name": "stdout",
     "output_type": "stream",
     "text": [
      "Micka: Meow!\n"
     ]
    }
   ],
   "source": [
    "micka = Cat()\n",
    "micka.name = 'Micka'\n",
    "micka.meow()"
   ]
  },
  {
   "cell_type": "code",
   "execution_count": 18,
   "metadata": {},
   "outputs": [
    {
     "ename": "AttributeError",
     "evalue": "'Cat' object has no attribute 'name'",
     "output_type": "error",
     "traceback": [
      "\u001b[1;31m---------------------------------------------------------------------------\u001b[0m",
      "\u001b[1;31mAttributeError\u001b[0m                            Traceback (most recent call last)",
      "\u001b[1;32m<ipython-input-18-703bad027fba>\u001b[0m in \u001b[0;36m<module>\u001b[1;34m\u001b[0m\n\u001b[0;32m      1\u001b[0m \u001b[0mmourek\u001b[0m \u001b[1;33m=\u001b[0m \u001b[0mCat\u001b[0m\u001b[1;33m(\u001b[0m\u001b[1;33m)\u001b[0m\u001b[1;33m\u001b[0m\u001b[1;33m\u001b[0m\u001b[0m\n\u001b[1;32m----> 2\u001b[1;33m \u001b[0mmourek\u001b[0m\u001b[1;33m.\u001b[0m\u001b[0mmeow\u001b[0m\u001b[1;33m(\u001b[0m\u001b[1;33m)\u001b[0m\u001b[1;33m\u001b[0m\u001b[1;33m\u001b[0m\u001b[0m\n\u001b[0m",
      "\u001b[1;32m<ipython-input-16-caa568b7c5a4>\u001b[0m in \u001b[0;36mmeow\u001b[1;34m(self)\u001b[0m\n\u001b[0;32m      1\u001b[0m \u001b[1;32mclass\u001b[0m \u001b[0mCat\u001b[0m\u001b[1;33m:\u001b[0m\u001b[1;33m\u001b[0m\u001b[1;33m\u001b[0m\u001b[0m\n\u001b[0;32m      2\u001b[0m     \u001b[1;32mdef\u001b[0m \u001b[0mmeow\u001b[0m\u001b[1;33m(\u001b[0m\u001b[0mself\u001b[0m\u001b[1;33m)\u001b[0m\u001b[1;33m:\u001b[0m\u001b[1;33m\u001b[0m\u001b[1;33m\u001b[0m\u001b[0m\n\u001b[1;32m----> 3\u001b[1;33m         \u001b[0mprint\u001b[0m\u001b[1;33m(\u001b[0m\u001b[1;34mf'{self.name}: Meow!'\u001b[0m\u001b[1;33m)\u001b[0m\u001b[1;33m\u001b[0m\u001b[1;33m\u001b[0m\u001b[0m\n\u001b[0m",
      "\u001b[1;31mAttributeError\u001b[0m: 'Cat' object has no attribute 'name'"
     ]
    }
   ],
   "source": [
    "mourek = Cat()\n",
    "mourek.meow()"
   ]
  },
  {
   "cell_type": "markdown",
   "metadata": {},
   "source": [
    "### require name for each cat\n",
    "\n",
    "`__init__` is a special method called during instance creation."
   ]
  },
  {
   "cell_type": "code",
   "execution_count": 19,
   "metadata": {},
   "outputs": [],
   "source": [
    "class Cat:\n",
    "    def __init__(self, name):\n",
    "        self.name = name\n",
    "    \n",
    "    def meow(self):\n",
    "        print(f'{self.name}: Meow!')"
   ]
  },
  {
   "cell_type": "code",
   "execution_count": 20,
   "metadata": {},
   "outputs": [
    {
     "name": "stdout",
     "output_type": "stream",
     "text": [
      "Micka: Meow!\n",
      "Mourek: Meow!\n"
     ]
    }
   ],
   "source": [
    "# show also\n",
    "# micka = Cat()\n",
    "\n",
    "micka = Cat('Micka')\n",
    "micka.meow()\n",
    "\n",
    "mourek = Cat(name='Mourek')\n",
    "mourek.meow()"
   ]
  },
  {
   "cell_type": "markdown",
   "metadata": {},
   "source": [
    "Exercise: Create a method **eat**\n",
    "* add method `eat(self, food)`"
   ]
  },
  {
   "cell_type": "markdown",
   "metadata": {},
   "source": [
    "# inheritance\n",
    "\n",
    "How can we describe a *dog*?"
   ]
  },
  {
   "cell_type": "code",
   "execution_count": 21,
   "metadata": {},
   "outputs": [],
   "source": [
    "class Cat:\n",
    "    def __init__(self, name):\n",
    "        self.name = name\n",
    "\n",
    "    def eat(self, food):\n",
    "        print(f'{self.name}: Mňam, {food}')\n",
    "\n",
    "    def meow(self):\n",
    "        print(f'{self.name}: Meow!')"
   ]
  },
  {
   "cell_type": "code",
   "execution_count": 22,
   "metadata": {},
   "outputs": [],
   "source": [
    "class Dog:\n",
    "    def __init__(self, name):\n",
    "        self.name = name\n",
    "        \n",
    "    def eat(self, food):\n",
    "        print(f'{self.name}: Mňam, {food}')\n",
    "\n",
    "    def bark(self):\n",
    "        print(f'{self.name}: Bark! Bark!')"
   ]
  },
  {
   "cell_type": "markdown",
   "metadata": {},
   "source": [
    "What's have a `Dog` and `Cat` similar, or identical. But we are lazy to copy & paste 🙂"
   ]
  },
  {
   "cell_type": "code",
   "execution_count": 23,
   "metadata": {},
   "outputs": [],
   "source": [
    "class Animal:\n",
    "    def __init__(self, name):\n",
    "        self.name = name\n",
    "        \n",
    "    def eat(self, food):\n",
    "        print(f'{self.name}: Mňam, {food}')\n",
    "\n",
    "############################################\n",
    "\n",
    "class Cat(Animal):\n",
    "    def meow(self):\n",
    "        print(f'{self.name}: Meow!')\n",
    "\n",
    "\n",
    "class Dog(Animal):\n",
    "    def bark(self):\n",
    "        print(f'{self.name}: Bark! Bark!')"
   ]
  },
  {
   "cell_type": "markdown",
   "metadata": {},
   "source": [
    "* if `Cat` doesn't implement some method/attribute directly, Python will look to parent class."
   ]
  },
  {
   "cell_type": "code",
   "execution_count": 24,
   "metadata": {},
   "outputs": [],
   "source": [
    "# myš = mouse\n",
    "# kost = bone\n",
    "\n",
    "micka = Cat('Micka')\n",
    "azorek = Dog('Azorek')"
   ]
  },
  {
   "cell_type": "code",
   "execution_count": 25,
   "metadata": {},
   "outputs": [
    {
     "name": "stdout",
     "output_type": "stream",
     "text": [
      "Micka: Mňam, myš\n",
      "Azorek: Mňam, kost\n"
     ]
    }
   ],
   "source": [
    "micka.eat('myš')\n",
    "azorek.eat('kost')"
   ]
  },
  {
   "cell_type": "code",
   "execution_count": 26,
   "metadata": {},
   "outputs": [
    {
     "name": "stdout",
     "output_type": "stream",
     "text": [
      "Micka: Meow!\n",
      "Azorek: Bark! Bark!\n"
     ]
    }
   ],
   "source": [
    "micka.meow()\n",
    "azorek.bark()"
   ]
  },
  {
   "cell_type": "markdown",
   "metadata": {},
   "source": [
    "### terminology\n",
    "* `Cat` is *child* class, or *subclass* to `Animal`\n",
    "* `Animal` is *parent* or *superclass* of `Cat` and `Dog`"
   ]
  },
  {
   "cell_type": "markdown",
   "metadata": {},
   "source": [
    "# replace method by something else (note Liskov principle)"
   ]
  },
  {
   "cell_type": "code",
   "execution_count": 27,
   "metadata": {},
   "outputs": [
    {
     "name": "stdout",
     "output_type": "stream",
     "text": [
      "Micka: bleh...\n",
      "Azorek: Mňam, kost\n"
     ]
    }
   ],
   "source": [
    "class Cat(Animal):\n",
    "    def meow(self):\n",
    "        print(f'{self.name}: Meow!')\n",
    "    \n",
    "    def eat(self, food):\n",
    "        print(f'{self.name}: bleh...')\n",
    "\n",
    "micka = Cat('Micka')\n",
    "azorek = Dog('Azorek')\n",
    "\n",
    "micka.eat('kost')\n",
    "azorek.eat('kost')"
   ]
  },
  {
   "cell_type": "markdown",
   "metadata": {},
   "source": [
    "### extending functionality"
   ]
  },
  {
   "cell_type": "code",
   "execution_count": 28,
   "metadata": {},
   "outputs": [
    {
     "name": "stdout",
     "output_type": "stream",
     "text": [
      "Micka: Mňam, kost\n",
      "Micka: bleh...\n",
      "Azorek: Mňam, kost\n"
     ]
    }
   ],
   "source": [
    "class Cat(Animal):\n",
    "    def meow(self):\n",
    "        print(f'{self.name}: Meow!')\n",
    "    \n",
    "    def eat(self, food):\n",
    "        super().eat(food)\n",
    "        print(f'{self.name}: bleh...')\n",
    "\n",
    "micka = Cat('Micka')\n",
    "azorek = Dog('Azorek')\n",
    "\n",
    "micka.eat('kost')\n",
    "azorek.eat('kost')"
   ]
  },
  {
   "cell_type": "markdown",
   "metadata": {},
   "source": [
    "Notes:\n",
    "* position of `super()` within method call is important!\n",
    "* don't forget it (always) call `super()` in subclasses"
   ]
  },
  {
   "cell_type": "markdown",
   "metadata": {},
   "source": [
    "# polymorfismuz\n",
    "\n",
    "Helps to inheritance we are sure, that every `Dog` or `Cas` are always also `Animals`."
   ]
  },
  {
   "cell_type": "code",
   "execution_count": 29,
   "metadata": {},
   "outputs": [
    {
     "name": "stdout",
     "output_type": "stream",
     "text": [
      "Hafik: Mňam, fish\n",
      "Micka: Mňam, fish\n",
      "Micka: bleh...\n"
     ]
    }
   ],
   "source": [
    "animals = [Dog('Hafik'), Cat('Micka')]\n",
    "\n",
    "for animal in animals:\n",
    "    animal.eat('fish')"
   ]
  },
  {
   "cell_type": "markdown",
   "metadata": {},
   "source": [
    "# generalizace"
   ]
  },
  {
   "cell_type": "code",
   "execution_count": 30,
   "metadata": {},
   "outputs": [
    {
     "name": "stdout",
     "output_type": "stream",
     "text": [
      "Hafik: Bark! Bark!\n",
      "Micka: Meow!\n"
     ]
    }
   ],
   "source": [
    "class Animal:\n",
    "    def __init__(self, name):\n",
    "        self.name = name\n",
    "        \n",
    "    def eat(self, food):\n",
    "        print(f'{self.name}: Mňam, {food}')\n",
    "\n",
    "\n",
    "class Cat(Animal):\n",
    "    def make_sound(self):\n",
    "        print(f'{self.name}: Meow!')\n",
    "\n",
    "\n",
    "class Dog(Animal):\n",
    "    def make_sound(self):\n",
    "        print(f'{self.name}: Bark! Bark!')\n",
    "\n",
    "        \n",
    "animals = [Dog('Hafik'), Cat('Micka')]\n",
    "for animal in animals:\n",
    "    animal.make_sound()"
   ]
  },
  {
   "cell_type": "markdown",
   "metadata": {},
   "source": [
    "# `__str__` method\n",
    "* to get string representation "
   ]
  },
  {
   "cell_type": "code",
   "execution_count": 31,
   "metadata": {},
   "outputs": [
    {
     "name": "stdout",
     "output_type": "stream",
     "text": [
      "<__main__.Animal object at 0x0000021F8E0AB310>\n"
     ]
    }
   ],
   "source": [
    "class Animal:\n",
    "    def __init__(self, name):\n",
    "        self.name = name\n",
    "\n",
    "dog = Animal('Hafik')\n",
    "print(dog)"
   ]
  },
  {
   "cell_type": "markdown",
   "metadata": {},
   "source": [
    "... that's not so hunan-redable.\n",
    "\n",
    "\n",
    "Notice `__main__` in `__main__.Animal`. Do you remember this snippet?"
   ]
  },
  {
   "cell_type": "code",
   "execution_count": 32,
   "metadata": {},
   "outputs": [],
   "source": [
    "if __name__ == '__main__':\n",
    "    ..."
   ]
  },
  {
   "cell_type": "markdown",
   "metadata": {},
   "source": [
    "It's related to variable scope.\n",
    "\n",
    "Back to `__str__`."
   ]
  },
  {
   "cell_type": "code",
   "execution_count": 33,
   "metadata": {},
   "outputs": [
    {
     "name": "stdout",
     "output_type": "stream",
     "text": [
      "<class '__main__.Animal'>\n",
      "Instance with name Hafik\n"
     ]
    }
   ],
   "source": [
    "class Animal:\n",
    "    def __init__(self, name):\n",
    "        self.name = name\n",
    "    \n",
    "    def __str__(self):\n",
    "        return f'Instance with name {self.name}'\n",
    "\n",
    "dog = Animal('Hafik')\n",
    "\n",
    "print(Animal)\n",
    "print(dog)"
   ]
  },
  {
   "cell_type": "markdown",
   "metadata": {},
   "source": [
    "# class/instance property"
   ]
  },
  {
   "cell_type": "code",
   "execution_count": 34,
   "metadata": {},
   "outputs": [],
   "source": [
    "class Animal:\n",
    "    color = 'brown'\n",
    "    \n",
    "    def __init__(self, name):\n",
    "        self.name = name\n",
    "    \n",
    "    def describe(self):\n",
    "        print(f'{self.name}, {self.color}')"
   ]
  },
  {
   "cell_type": "markdown",
   "metadata": {},
   "source": [
    "### instance property"
   ]
  },
  {
   "cell_type": "code",
   "execution_count": 35,
   "metadata": {},
   "outputs": [
    {
     "name": "stdout",
     "output_type": "stream",
     "text": [
      "Azorek, brown\n"
     ]
    }
   ],
   "source": [
    "dog = Animal('Azorek')\n",
    "dog.describe()"
   ]
  },
  {
   "cell_type": "code",
   "execution_count": 36,
   "metadata": {},
   "outputs": [
    {
     "name": "stdout",
     "output_type": "stream",
     "text": [
      "brown\n"
     ]
    }
   ],
   "source": [
    "print(dog.color)"
   ]
  },
  {
   "cell_type": "markdown",
   "metadata": {},
   "source": [
    "### change instance property"
   ]
  },
  {
   "cell_type": "code",
   "execution_count": 37,
   "metadata": {},
   "outputs": [
    {
     "name": "stdout",
     "output_type": "stream",
     "text": [
      "Azorek, black\n"
     ]
    }
   ],
   "source": [
    "dog.color = 'black'\n",
    "dog.describe()"
   ]
  },
  {
   "cell_type": "markdown",
   "metadata": {},
   "source": [
    "* modifying instance property **will not** touch further created objects\n",
    "* modifying **instance** property, that has been previously **class** property will **create instance** property"
   ]
  },
  {
   "cell_type": "code",
   "execution_count": 38,
   "metadata": {},
   "outputs": [
    {
     "name": "stdout",
     "output_type": "stream",
     "text": [
      "WebMaster, brown\n"
     ]
    }
   ],
   "source": [
    "spider = Animal('WebMaster')\n",
    "spider.describe()"
   ]
  },
  {
   "cell_type": "markdown",
   "metadata": {},
   "source": [
    "## class property\n",
    "### use modifying class property with caution!"
   ]
  },
  {
   "cell_type": "code",
   "execution_count": 39,
   "metadata": {},
   "outputs": [
    {
     "name": "stdout",
     "output_type": "stream",
     "text": [
      "brown\n",
      "green\n"
     ]
    }
   ],
   "source": [
    "print(Animal.color)\n",
    "Animal.color = 'green'\n",
    "print(Animal.color)"
   ]
  },
  {
   "cell_type": "markdown",
   "metadata": {},
   "source": [
    "... will modify further objects (but not already created)"
   ]
  },
  {
   "cell_type": "code",
   "execution_count": 40,
   "metadata": {},
   "outputs": [
    {
     "name": "stdout",
     "output_type": "stream",
     "text": [
      "The frog, green\n"
     ]
    }
   ],
   "source": [
    "# žbluňk\n",
    "frog = Animal('The frog')\n",
    "frog.describe()"
   ]
  },
  {
   "cell_type": "markdown",
   "metadata": {},
   "source": [
    "**Observation**: if object doesn't have instance attribute, class attribute will be used."
   ]
  },
  {
   "cell_type": "markdown",
   "metadata": {},
   "source": [
    "# change class property to instance"
   ]
  },
  {
   "cell_type": "code",
   "execution_count": 41,
   "metadata": {},
   "outputs": [],
   "source": [
    "class Animal:\n",
    "    #color = 'brown'\n",
    "    \n",
    "    def __init__(self, name):\n",
    "        self.name = name\n",
    "        self.color = 'brown'\n",
    "    \n",
    "    def describe(self):\n",
    "        print(f'{self.name}, {self.color}')"
   ]
  },
  {
   "cell_type": "code",
   "execution_count": 42,
   "metadata": {
    "scrolled": true
   },
   "outputs": [
    {
     "ename": "AttributeError",
     "evalue": "type object 'Animal' has no attribute 'color'",
     "output_type": "error",
     "traceback": [
      "\u001b[1;31m---------------------------------------------------------------------------\u001b[0m",
      "\u001b[1;31mAttributeError\u001b[0m                            Traceback (most recent call last)",
      "\u001b[1;32m<ipython-input-42-a17134a5c055>\u001b[0m in \u001b[0;36m<module>\u001b[1;34m\u001b[0m\n\u001b[1;32m----> 1\u001b[1;33m \u001b[0mprint\u001b[0m\u001b[1;33m(\u001b[0m\u001b[0mAnimal\u001b[0m\u001b[1;33m.\u001b[0m\u001b[0mcolor\u001b[0m\u001b[1;33m)\u001b[0m\u001b[1;33m\u001b[0m\u001b[1;33m\u001b[0m\u001b[0m\n\u001b[0m",
      "\u001b[1;31mAttributeError\u001b[0m: type object 'Animal' has no attribute 'color'"
     ]
    }
   ],
   "source": [
    "print(Animal.color)"
   ]
  },
  {
   "cell_type": "code",
   "execution_count": 43,
   "metadata": {},
   "outputs": [
    {
     "name": "stdout",
     "output_type": "stream",
     "text": [
      "Hafik, brown\n"
     ]
    }
   ],
   "source": [
    "dog = Animal('Hafik')\n",
    "dog.describe()"
   ]
  },
  {
   "cell_type": "code",
   "execution_count": 44,
   "metadata": {},
   "outputs": [
    {
     "name": "stdout",
     "output_type": "stream",
     "text": [
      "Hafik, yellow\n"
     ]
    }
   ],
   "source": [
    "dog.color = 'yellow'\n",
    "dog.describe()"
   ]
  },
  {
   "cell_type": "code",
   "execution_count": 45,
   "metadata": {},
   "outputs": [
    {
     "name": "stdout",
     "output_type": "stream",
     "text": [
      "Micka, brown\n"
     ]
    }
   ],
   "source": [
    "cat = Animal('Micka')\n",
    "cat.describe()"
   ]
  }
 ],
 "metadata": {
  "kernelspec": {
   "display_name": "Python 3",
   "language": "python",
   "name": "python3"
  },
  "language_info": {
   "codemirror_mode": {
    "name": "ipython",
    "version": 3
   },
   "file_extension": ".py",
   "mimetype": "text/x-python",
   "name": "python",
   "nbconvert_exporter": "python",
   "pygments_lexer": "ipython3",
   "version": "3.8.5"
  }
 },
 "nbformat": 4,
 "nbformat_minor": 4
}
