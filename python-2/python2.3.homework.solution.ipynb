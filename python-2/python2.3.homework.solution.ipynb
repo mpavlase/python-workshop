{
 "cells": [
  {
   "cell_type": "markdown",
   "metadata": {},
   "source": [
    "# 1. Implement Card class"
   ]
  },
  {
   "cell_type": "markdown",
   "metadata": {},
   "source": [
    "Implement simplified representation of deck-card (for board games like \"solitér\", \"žolík\", \"kanasta\" etc.) as class `Card` with these features:\n",
    "1. each `Card` instance has these attributes:\n",
    "    * `color` (`'black'`, `'red'`) - mandatory,\n",
    "    * `value` (usual values are `2`, `3`, ..., `10`) - mandatory\n",
    "    * (figure out name by yourself) to store a fact, that card can lay on table by face up or down. By default, face is down (=you don't see actual color and value).\n",
    "    * it's not necessary to verify actual values for `color` and `value` this time - this execise is focused to work with objects\n",
    "1. implement method `is_same(card)`, that accepts another instance of `Card` and returns boolean value if current instance has same `color` and `value` as given instance (`card`)\n",
    "1. implement methods `__str__` and `flip()`\n",
    "    * `flip()` will change string representation - to show, or hide actual color/value\n",
    "    * example of string representation a card with:\n",
    "        * face down: `Card: ?? (??)`\n",
    "        * face up: `Card: 7 (black)`\n",
    "\n",
    "![](https://www.magictricks.com/assets/images/trickspix/cheekcheek.jpg)\n",
    "**Left: face down, right: face up**"
   ]
  },
  {
   "cell_type": "code",
   "execution_count": 1,
   "metadata": {},
   "outputs": [],
   "source": [
    "class Card:\n",
    "    def __init__(self, color, value):\n",
    "        self.color = color\n",
    "        self.value = value\n",
    "        self.is_visible = False\n",
    "        \n",
    "    def is_same(self, card):\n",
    "        return self.color == card.color and self.value == self.value\n",
    "    \n",
    "    def flip(self):\n",
    "        self.is_visible = not self.is_visible\n",
    "    \n",
    "    def __str__(self):\n",
    "        value = self.value\n",
    "        color = self.color\n",
    "        \n",
    "        if self.is_visible:\n",
    "            value = \"??\"\n",
    "            color = \"??\"\n",
    "\n",
    "        return f'Card: {value} ({color})'"
   ]
  },
  {
   "cell_type": "markdown",
   "metadata": {},
   "source": [
    "Create manually three new instances of `Car` by this description (don't parse strings below, just pick what is important for you) and store them to individual variables.\n",
    "1. red card with value 5\n",
    "1. red card with value 5\n",
    "1. black card with value 7\n",
    "\n",
    "Have fun with your objects 🙂. Try to `print` them, call `flip` (and print it again) and `is_same` methods."
   ]
  },
  {
   "cell_type": "code",
   "execution_count": 2,
   "metadata": {},
   "outputs": [
    {
     "name": "stdout",
     "output_type": "stream",
     "text": [
      "Card: 5 (red)\n",
      "Card: ?? (??)\n",
      "Card: 7 (black)\n"
     ]
    }
   ],
   "source": [
    "card1 = Card('red', 5)\n",
    "card2 = Card('red', 5)\n",
    "card3 = Card('black', 7)\n",
    "\n",
    "card2.flip()\n",
    "\n",
    "print(card1)\n",
    "print(card2)\n",
    "print(card3)"
   ]
  },
  {
   "cell_type": "code",
   "execution_count": 3,
   "metadata": {},
   "outputs": [
    {
     "data": {
      "text/plain": [
       "True"
      ]
     },
     "execution_count": 3,
     "metadata": {},
     "output_type": "execute_result"
    }
   ],
   "source": [
    "card1.is_same(card2)"
   ]
  },
  {
   "cell_type": "code",
   "execution_count": 4,
   "metadata": {},
   "outputs": [
    {
     "data": {
      "text/plain": [
       "True"
      ]
     },
     "execution_count": 4,
     "metadata": {},
     "output_type": "execute_result"
    }
   ],
   "source": [
    "card1.is_same(card1)"
   ]
  },
  {
   "cell_type": "code",
   "execution_count": 5,
   "metadata": {},
   "outputs": [
    {
     "data": {
      "text/plain": [
       "False"
      ]
     },
     "execution_count": 5,
     "metadata": {},
     "output_type": "execute_result"
    }
   ],
   "source": [
    "card1.is_same(card3)"
   ]
  },
  {
   "cell_type": "markdown",
   "metadata": {},
   "source": [
    "# 2. Create Red and Black card classes\n",
    "\n",
    "Think about generalization of your current implementation. We will always have only `red` and `black` cards.\n",
    "\n",
    "Let's simplify their creation by making individual classes (`RedCard`, `BlackCard`) for them and require to pass only `value` during instanciation. Just note that most of implementation is already done in `Card` - don't repeat yourself ([DRY](https://en.wikipedia.org/wiki/Don%27t_repeat_yourself)). So for each of then the color will be always pre-filled (don't use default value for argument, it you have this temptation).\n",
    "\n",
    "Try them to create instance to test, if it works identically like previous examples."
   ]
  },
  {
   "cell_type": "code",
   "execution_count": 6,
   "metadata": {},
   "outputs": [],
   "source": [
    "class RedCard(Card):\n",
    "    def __init__(self, value):\n",
    "        super().__init__('red', value)\n",
    "\n",
    "\n",
    "class BlackCard(Card):\n",
    "    def __init__(self, value):\n",
    "        super().__init__('black', value)"
   ]
  },
  {
   "cell_type": "code",
   "execution_count": 7,
   "metadata": {},
   "outputs": [
    {
     "name": "stdout",
     "output_type": "stream",
     "text": [
      "Card: 5 (red)\n",
      "Card: ?? (??)\n",
      "Card: 7 (black)\n"
     ]
    }
   ],
   "source": [
    "card1 = RedCard(5)\n",
    "card2 = RedCard(5)\n",
    "card3 = BlackCard(7)\n",
    "\n",
    "card2.flip()\n",
    "\n",
    "print(card1)\n",
    "print(card2)\n",
    "print(card3)"
   ]
  },
  {
   "cell_type": "markdown",
   "metadata": {},
   "source": [
    "# 3. Create a deck of cards\n",
    "\n",
    "Manual creation is boring, let's generate all possible combinations.\n",
    "* store all cards into list as deck of cards\n",
    "* colors: `'black'`, `'red'` (as strings)\n",
    "* values: 2, 3, 4, 5, 6, 7, 8, 9, 10\n",
    "\n",
    "Finally try to print your deck."
   ]
  },
  {
   "cell_type": "code",
   "execution_count": 8,
   "metadata": {},
   "outputs": [
    {
     "name": "stdout",
     "output_type": "stream",
     "text": [
      "[<__main__.Card object at 0x000001D8B529F790>, <__main__.Card object at 0x000001D8B529F6A0>, <__main__.Card object at 0x000001D8B529FEB0>, <__main__.Card object at 0x000001D8B529FE50>, <__main__.Card object at 0x000001D8B529FD90>, <__main__.Card object at 0x000001D8B52F04F0>, <__main__.Card object at 0x000001D8B52F0580>, <__main__.Card object at 0x000001D8B52F03A0>, <__main__.Card object at 0x000001D8B52F01C0>, <__main__.Card object at 0x000001D8B52F08E0>, <__main__.Card object at 0x000001D8B52F00D0>, <__main__.Card object at 0x000001D8B52F0100>, <__main__.Card object at 0x000001D8B52F01F0>, <__main__.Card object at 0x000001D8B52F0520>, <__main__.Card object at 0x000001D8B52F0250>, <__main__.Card object at 0x000001D8B52F0370>, <__main__.Card object at 0x000001D8B52F0640>, <__main__.Card object at 0x000001D8B52F00A0>]\n"
     ]
    }
   ],
   "source": [
    "deck = []\n",
    "\n",
    "for color in ['black', 'red']:\n",
    "    for value in range(2, 11):\n",
    "        \n",
    "        card = Card(color, value)\n",
    "        deck.append(card)\n",
    "\n",
    "print(deck)"
   ]
  },
  {
   "cell_type": "markdown",
   "metadata": {},
   "source": [
    "# Bonus 1: discover difference between `__str__` vs `__repr__`"
   ]
  },
  {
   "cell_type": "markdown",
   "metadata": {},
   "source": [
    "Printed deck of cards from previous task looks like this:\n",
    "```\n",
    "[<__main__.Card object at 0x000001C8BB41A520>, <__main__.Card object at 0x000001C8BB41ACA0>, <__main__.Card object at 0x000001C8BB41AE50>, (plenty of others)]\n",
    "```\n",
    "\n",
    "It's not so pretty. Add a new method `__repr__(self)` to `Card` (or extend it by creating `ReprCard`) and whenever something will invoke the method it will return string like this:\n",
    "\n",
    "* `<Card red 7>`,\n",
    "* `<Card black 5>`."
   ]
  },
  {
   "cell_type": "code",
   "execution_count": 9,
   "metadata": {},
   "outputs": [],
   "source": [
    "class ReprCard(Card):\n",
    "    def __repr__(self):\n",
    "        return f'<Card {self.color} {self.value}>'"
   ]
  },
  {
   "cell_type": "code",
   "execution_count": 10,
   "metadata": {
    "scrolled": false
   },
   "outputs": [
    {
     "name": "stdout",
     "output_type": "stream",
     "text": [
      "[<Card black 2>, <Card black 3>, <Card black 4>, <Card black 5>, <Card black 6>, <Card black 7>, <Card black 8>, <Card black 9>, <Card black 10>, <Card red 2>, <Card red 3>, <Card red 4>, <Card red 5>, <Card red 6>, <Card red 7>, <Card red 8>, <Card red 9>, <Card red 10>]\n"
     ]
    }
   ],
   "source": [
    "deck = []\n",
    "\n",
    "for color in ['black', 'red']:\n",
    "    for value in range(2, 11):\n",
    "        card = ReprCard(color, value)\n",
    "        deck.append(card)\n",
    "\n",
    "print(deck)"
   ]
  },
  {
   "cell_type": "markdown",
   "metadata": {},
   "source": [
    "Don't call `__methodname__` manually, use public functions to do that: `str()` and `repr()`"
   ]
  },
  {
   "cell_type": "code",
   "execution_count": 11,
   "metadata": {},
   "outputs": [
    {
     "name": "stdout",
     "output_type": "stream",
     "text": [
      "Card: 5 (red)\n",
      "<Card red 5>\n"
     ]
    }
   ],
   "source": [
    "card = ReprCard('red', 5)\n",
    "\n",
    "print(str(card))\n",
    "print(repr(card))"
   ]
  },
  {
   "cell_type": "markdown",
   "metadata": {},
   "source": [
    "# Bonus 2: create deck of card by using `BlackCard` and `RedCard`\n",
    "\n",
    "Change exercise 3 (create a deck of cards) to use `BlackCard` and `RedCard` implementation instead of passing color as string."
   ]
  },
  {
   "cell_type": "code",
   "execution_count": 12,
   "metadata": {},
   "outputs": [
    {
     "name": "stdout",
     "output_type": "stream",
     "text": [
      "[<__main__.BlackCard object at 0x000001D8B52F0700>, <__main__.BlackCard object at 0x000001D8B52F0D90>, <__main__.BlackCard object at 0x000001D8B52F04F0>, <__main__.BlackCard object at 0x000001D8B52F0580>, <__main__.BlackCard object at 0x000001D8B52F03A0>, <__main__.BlackCard object at 0x000001D8B52F0070>, <__main__.BlackCard object at 0x000001D8B52F0040>, <__main__.BlackCard object at 0x000001D8B52F0190>, <__main__.BlackCard object at 0x000001D8B52F0130>, <__main__.RedCard object at 0x000001D8B52F0610>, <__main__.RedCard object at 0x000001D8B52F05B0>, <__main__.RedCard object at 0x000001D8B52F0280>, <__main__.RedCard object at 0x000001D8B52F05E0>, <__main__.RedCard object at 0x000001D8B52F0670>, <__main__.RedCard object at 0x000001D8B52BDEB0>, <__main__.RedCard object at 0x000001D8B52BD430>, <__main__.RedCard object at 0x000001D8B52BD0A0>, <__main__.RedCard object at 0x000001D8B52BD3D0>]\n"
     ]
    }
   ],
   "source": [
    "deck = []\n",
    "\n",
    "for card_type in [BlackCard, RedCard]:\n",
    "    for value in range(2, 11):\n",
    "        card = card_type(value)\n",
    "        deck.append(card)\n",
    "\n",
    "print(deck)"
   ]
  }
 ],
 "metadata": {
  "kernelspec": {
   "display_name": "Python 3",
   "language": "python",
   "name": "python3"
  },
  "language_info": {
   "codemirror_mode": {
    "name": "ipython",
    "version": 3
   },
   "file_extension": ".py",
   "mimetype": "text/x-python",
   "name": "python",
   "nbconvert_exporter": "python",
   "pygments_lexer": "ipython3",
   "version": "3.8.5"
  }
 },
 "nbformat": 4,
 "nbformat_minor": 4
}
