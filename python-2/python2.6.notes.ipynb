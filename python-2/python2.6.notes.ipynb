{
 "cells": [
  {
   "cell_type": "markdown",
   "id": "federal-mechanism",
   "metadata": {},
   "source": [
    "# python2.6\n",
    "\n",
    "- namedtuple\n",
    "- pathlib\n",
    "- dekorátory\n",
    "- list/dict/set comprehensions\n",
    "- ternary operator\n",
    "- lambda, map, filter, sort\n",
    "- hints/tips for debugging (in PyCharm also)\n",
    "- logging module\n",
    "- jupyter notebook as presentation\n",
    "- comprehensions\n",
    "- ternary operator"
   ]
  },
  {
   "cell_type": "markdown",
   "id": "wanted-department",
   "metadata": {},
   "source": [
    "# pathlib\n",
    "- say goodbye working with paths as strings: `path = \"C:\\\\\" + project + \"\\\\script.py\"`"
   ]
  },
  {
   "cell_type": "markdown",
   "id": "integrated-creature",
   "metadata": {},
   "source": [
    "### Why another lib for manipulation with paths, if `os.path` is already there?\n",
    "\n",
    "Motivation:\n",
    "\n",
    "* **string-base** vs. **object-base** approach"
   ]
  },
  {
   "cell_type": "code",
   "execution_count": 53,
   "id": "suspended-fraud",
   "metadata": {},
   "outputs": [
    {
     "name": "stdout",
     "output_type": "stream",
     "text": [
      "project\\module\n",
      "file.py\n"
     ]
    }
   ],
   "source": [
    "import os.path\n",
    "path = \"project\\\\module\\\\file.py\"\n",
    "\n",
    "print(os.path.dirname(path))\n",
    "print(os.path.basename(path))"
   ]
  },
  {
   "cell_type": "code",
   "execution_count": 54,
   "id": "interior-handle",
   "metadata": {},
   "outputs": [
    {
     "name": "stdout",
     "output_type": "stream",
     "text": [
      "project\\module\\file.py\\..\\viewer.py\n",
      "project\\module\\viewer.py\n"
     ]
    }
   ],
   "source": [
    "print(os.path.join(path, '..', 'viewer.py'))\n",
    "print(os.path.join(os.path.dirname(path), 'viewer.py'))"
   ]
  },
  {
   "cell_type": "markdown",
   "id": "tender-waterproof",
   "metadata": {},
   "source": [
    "#### Same example with `Pathlib`"
   ]
  },
  {
   "cell_type": "code",
   "execution_count": 55,
   "id": "stretch-bench",
   "metadata": {},
   "outputs": [
    {
     "name": "stdout",
     "output_type": "stream",
     "text": [
      "project\\module\\file.py\n",
      "project\\module\\file.py\\..\\view.py\n",
      "project\\module\\view.py\n"
     ]
    }
   ],
   "source": [
    "import pathlib\n",
    "print(path)\n",
    "\n",
    "print(pathlib.Path(path) / '..' / 'view.py')\n",
    "print(pathlib.Path(path).parent / 'view.py')"
   ]
  },
  {
   "cell_type": "markdown",
   "id": "independent-belly",
   "metadata": {},
   "source": [
    "### `pathlib` features, API"
   ]
  },
  {
   "cell_type": "code",
   "execution_count": 56,
   "id": "neither-stress",
   "metadata": {},
   "outputs": [],
   "source": [
    "path = pathlib.Path(r'c:\\directory/somewhere\\inside.py')"
   ]
  },
  {
   "cell_type": "code",
   "execution_count": 57,
   "id": "synthetic-madonna",
   "metadata": {},
   "outputs": [
    {
     "data": {
      "text/plain": [
       "('c:\\\\', 'directory', 'somewhere', 'inside.py')"
      ]
     },
     "execution_count": 57,
     "metadata": {},
     "output_type": "execute_result"
    }
   ],
   "source": [
    "path.parts"
   ]
  },
  {
   "cell_type": "code",
   "execution_count": 58,
   "id": "alike-warren",
   "metadata": {},
   "outputs": [
    {
     "data": {
      "text/plain": [
       "False"
      ]
     },
     "execution_count": 58,
     "metadata": {},
     "output_type": "execute_result"
    }
   ],
   "source": [
    "path.exists()"
   ]
  },
  {
   "cell_type": "code",
   "execution_count": 59,
   "id": "mighty-yorkshire",
   "metadata": {},
   "outputs": [
    {
     "data": {
      "text/plain": [
       "WindowsPath('c:/directory/somewhere')"
      ]
     },
     "execution_count": 59,
     "metadata": {},
     "output_type": "execute_result"
    }
   ],
   "source": [
    "path.parent"
   ]
  },
  {
   "cell_type": "code",
   "execution_count": 60,
   "id": "collective-scanner",
   "metadata": {},
   "outputs": [
    {
     "data": {
      "text/plain": [
       "WindowsPath('c:/directory')"
      ]
     },
     "execution_count": 60,
     "metadata": {},
     "output_type": "execute_result"
    }
   ],
   "source": [
    "path.parent.parent"
   ]
  },
  {
   "cell_type": "code",
   "execution_count": 61,
   "id": "structural-lebanon",
   "metadata": {},
   "outputs": [],
   "source": [
    "with path.open('r') as fd:\n",
    "    content = fd.read()"
   ]
  },
  {
   "cell_type": "code",
   "execution_count": 62,
   "id": "cardiovascular-mattress",
   "metadata": {},
   "outputs": [
    {
     "data": {
      "text/plain": [
       "'inside.py'"
      ]
     },
     "execution_count": 62,
     "metadata": {},
     "output_type": "execute_result"
    }
   ],
   "source": [
    "path.name"
   ]
  },
  {
   "cell_type": "code",
   "execution_count": 63,
   "id": "convinced-estimate",
   "metadata": {},
   "outputs": [
    {
     "data": {
      "text/plain": [
       "'.py'"
      ]
     },
     "execution_count": 63,
     "metadata": {},
     "output_type": "execute_result"
    }
   ],
   "source": [
    "path.suffix"
   ]
  },
  {
   "cell_type": "code",
   "execution_count": 64,
   "id": "varying-vulnerability",
   "metadata": {},
   "outputs": [
    {
     "data": {
      "text/plain": [
       "False"
      ]
     },
     "execution_count": 64,
     "metadata": {},
     "output_type": "execute_result"
    }
   ],
   "source": [
    "path.is_dir()"
   ]
  },
  {
   "cell_type": "code",
   "execution_count": 65,
   "id": "cellular-pharmaceutical",
   "metadata": {},
   "outputs": [
    {
     "data": {
      "text/plain": [
       "False"
      ]
     },
     "execution_count": 65,
     "metadata": {},
     "output_type": "execute_result"
    }
   ],
   "source": [
    "# returns False, because file doesn't exists\n",
    "path.is_file()"
   ]
  },
  {
   "cell_type": "code",
   "execution_count": 66,
   "id": "sitting-diagnosis",
   "metadata": {},
   "outputs": [],
   "source": [
    "pathlib.Path('somedir').mkdir(parents=True)"
   ]
  },
  {
   "cell_type": "markdown",
   "id": "coral-title",
   "metadata": {},
   "source": [
    "# `namedtuple`\n",
    "- immutable like ordinary `tuple`, but with named elements.\n",
    "\n",
    "Why tuple can sucks:"
   ]
  },
  {
   "cell_type": "code",
   "execution_count": 67,
   "id": "extended-gazette",
   "metadata": {},
   "outputs": [
    {
     "data": {
      "text/plain": [
       "('Libušina třída', 1, 62300, 'Brno')"
      ]
     },
     "execution_count": 67,
     "metadata": {},
     "output_type": "execute_result"
    }
   ],
   "source": [
    "tup_address = 'Libušina třída', 1, 62300, 'Brno'\n",
    "tup_address"
   ]
  },
  {
   "cell_type": "markdown",
   "id": "interpreted-zoning",
   "metadata": {},
   "source": [
    "Which index contains **city**, `[2]` or `[3]`? 🤔"
   ]
  },
  {
   "cell_type": "code",
   "execution_count": 68,
   "id": "rapid-frederick",
   "metadata": {},
   "outputs": [
    {
     "data": {
      "text/plain": [
       "'Brno'"
      ]
     },
     "execution_count": 68,
     "metadata": {},
     "output_type": "execute_result"
    }
   ],
   "source": [
    "tup_address[3]"
   ]
  },
  {
   "cell_type": "markdown",
   "id": "middle-jumping",
   "metadata": {},
   "source": [
    "* from `tuple` to `namedtuple`"
   ]
  },
  {
   "cell_type": "code",
   "execution_count": 69,
   "id": "material-amplifier",
   "metadata": {},
   "outputs": [
    {
     "data": {
      "text/plain": [
       "Address(street='Libušina třída', house=1, zipcode=62300, city='Brno')"
      ]
     },
     "execution_count": 69,
     "metadata": {},
     "output_type": "execute_result"
    }
   ],
   "source": [
    "from collections import namedtuple\n",
    "\n",
    "Address = namedtuple('Address', ['street', 'house', 'zipcode', 'city'])\n",
    "#Address = namedtuple('Address', 'street house zipcode city')\n",
    "\n",
    "nt_address = Address(city='Brno', zipcode=62300, street='Libušina třída', house=1)\n",
    "nt_address = Address('Libušina třída', 1, 62300, 'Brno')\n",
    "nt_address"
   ]
  },
  {
   "cell_type": "code",
   "execution_count": 70,
   "id": "balanced-skating",
   "metadata": {},
   "outputs": [
    {
     "data": {
      "text/plain": [
       "'Brno'"
      ]
     },
     "execution_count": 70,
     "metadata": {},
     "output_type": "execute_result"
    }
   ],
   "source": [
    "nt_address.city"
   ]
  },
  {
   "cell_type": "code",
   "execution_count": 71,
   "id": "healthy-pottery",
   "metadata": {},
   "outputs": [
    {
     "ename": "AttributeError",
     "evalue": "can't set attribute",
     "output_type": "error",
     "traceback": [
      "\u001b[1;31m---------------------------------------------------------------------------\u001b[0m",
      "\u001b[1;31mAttributeError\u001b[0m                            Traceback (most recent call last)",
      "\u001b[1;32m<ipython-input-71-6148a79bfec3>\u001b[0m in \u001b[0;36m<module>\u001b[1;34m\u001b[0m\n\u001b[1;32m----> 1\u001b[1;33m \u001b[0mnt_address\u001b[0m\u001b[1;33m.\u001b[0m\u001b[0mcity\u001b[0m \u001b[1;33m=\u001b[0m \u001b[1;34m'Krnov'\u001b[0m\u001b[1;33m\u001b[0m\u001b[1;33m\u001b[0m\u001b[0m\n\u001b[0m",
      "\u001b[1;31mAttributeError\u001b[0m: can't set attribute"
     ]
    }
   ],
   "source": [
    "nt_address.city = 'Krnov'"
   ]
  },
  {
   "cell_type": "code",
   "execution_count": 72,
   "id": "expressed-equality",
   "metadata": {},
   "outputs": [
    {
     "data": {
      "text/plain": [
       "'Brno'"
      ]
     },
     "execution_count": 72,
     "metadata": {},
     "output_type": "execute_result"
    }
   ],
   "source": [
    "nt_address[3]"
   ]
  },
  {
   "cell_type": "markdown",
   "id": "innocent-briefing",
   "metadata": {},
   "source": [
    "* tuple as dict"
   ]
  },
  {
   "cell_type": "code",
   "execution_count": 73,
   "id": "floppy-luxembourg",
   "metadata": {},
   "outputs": [
    {
     "data": {
      "text/plain": [
       "{'street': 'Libušina třída', 'house': 1, 'zipcode': 62300, 'city': 'Brno'}"
      ]
     },
     "execution_count": 73,
     "metadata": {},
     "output_type": "execute_result"
    }
   ],
   "source": [
    "nt_address._asdict()"
   ]
  },
  {
   "cell_type": "markdown",
   "id": "charged-valentine",
   "metadata": {},
   "source": [
    "# dataclasses\n",
    "* like `namedtuple`, but mutable\n",
    "If you need mutable `namedtuple` go for this."
   ]
  },
  {
   "cell_type": "code",
   "execution_count": 74,
   "id": "choice-partition",
   "metadata": {},
   "outputs": [
    {
     "data": {
      "text/plain": [
       "Address(street='Libušina třída', house=1, zipcode=62300, city='Brno')"
      ]
     },
     "execution_count": 74,
     "metadata": {},
     "output_type": "execute_result"
    }
   ],
   "source": [
    "from dataclasses import dataclass\n",
    "\n",
    "@dataclass\n",
    "class Address:\n",
    "    street: str\n",
    "    house: int\n",
    "    zipcode: int\n",
    "    city: str\n",
    "    \n",
    "    def post_address(self):\n",
    "        return f'{self.street} {self.house}, {self.zipcode} {self.city}'\n",
    "\n",
    "dc_address = Address('Libušina třída', 1, 62300, 'Brno')\n",
    "dc_address"
   ]
  },
  {
   "cell_type": "code",
   "execution_count": 75,
   "id": "acute-diving",
   "metadata": {},
   "outputs": [
    {
     "data": {
      "text/plain": [
       "'Brno'"
      ]
     },
     "execution_count": 75,
     "metadata": {},
     "output_type": "execute_result"
    }
   ],
   "source": [
    "dc_address.city"
   ]
  },
  {
   "cell_type": "code",
   "execution_count": 76,
   "id": "wanted-duplicate",
   "metadata": {},
   "outputs": [],
   "source": [
    "dc_address.city = 'Krno'"
   ]
  },
  {
   "cell_type": "code",
   "execution_count": 77,
   "id": "differential-edgar",
   "metadata": {},
   "outputs": [
    {
     "data": {
      "text/plain": [
       "'Krno'"
      ]
     },
     "execution_count": 77,
     "metadata": {},
     "output_type": "execute_result"
    }
   ],
   "source": [
    "dc_address.city"
   ]
  },
  {
   "cell_type": "code",
   "execution_count": 78,
   "id": "yellow-broadway",
   "metadata": {},
   "outputs": [
    {
     "data": {
      "text/plain": [
       "\"Address(street='Libušina třída', house=1, zipcode=62300, city='Krno')\""
      ]
     },
     "execution_count": 78,
     "metadata": {},
     "output_type": "execute_result"
    }
   ],
   "source": [
    "str(dc_address)"
   ]
  },
  {
   "cell_type": "code",
   "execution_count": 79,
   "id": "partial-mercy",
   "metadata": {},
   "outputs": [
    {
     "data": {
      "text/plain": [
       "'Libušina třída 1, 62300 Krno'"
      ]
     },
     "execution_count": 79,
     "metadata": {},
     "output_type": "execute_result"
    }
   ],
   "source": [
    "dc_address.post_address()"
   ]
  },
  {
   "cell_type": "markdown",
   "id": "aging-shipping",
   "metadata": {},
   "source": [
    "# filter, lambda, map function\n",
    "- `filter`\n",
    "- `lambda` is syntactic sugar around anonymous function with single expression\n",
    "- `map`"
   ]
  },
  {
   "cell_type": "code",
   "execution_count": 80,
   "id": "handy-reset",
   "metadata": {},
   "outputs": [],
   "source": [
    "# 1. filter just even number (2, 4, ...)\n",
    "\n",
    "numbers = list(range(15))"
   ]
  },
  {
   "cell_type": "code",
   "execution_count": 81,
   "id": "fiscal-reservoir",
   "metadata": {},
   "outputs": [
    {
     "name": "stdout",
     "output_type": "stream",
     "text": [
      "[0, 2, 4, 6, 8, 10, 12, 14]\n"
     ]
    }
   ],
   "source": [
    "# simple solution\n",
    "def filter_even(numbers):\n",
    "    even_numbers = []\n",
    "    \n",
    "    for number in numbers:\n",
    "        if number % 2 == 0:\n",
    "            even_numbers.append(number)\n",
    "    return even_numbers\n",
    "\n",
    "print(filter_even(numbers))"
   ]
  },
  {
   "cell_type": "code",
   "execution_count": 82,
   "id": "steady-sender",
   "metadata": {},
   "outputs": [
    {
     "name": "stdout",
     "output_type": "stream",
     "text": [
      "<function <lambda> at 0x000001A7C0F2EDC0>\n"
     ]
    }
   ],
   "source": [
    "# define lambda function\n",
    "is_even = lambda x: x % 2 == 0\n",
    "print(is_even)"
   ]
  },
  {
   "cell_type": "code",
   "execution_count": 83,
   "id": "formed-search",
   "metadata": {},
   "outputs": [
    {
     "data": {
      "text/plain": [
       "(False, True)"
      ]
     },
     "execution_count": 83,
     "metadata": {},
     "output_type": "execute_result"
    }
   ],
   "source": [
    "is_even(3), is_even(4)"
   ]
  },
  {
   "cell_type": "markdown",
   "id": "standing-alaska",
   "metadata": {},
   "source": [
    "### fiter"
   ]
  },
  {
   "cell_type": "code",
   "execution_count": 84,
   "id": "prospective-bearing",
   "metadata": {},
   "outputs": [
    {
     "name": "stdout",
     "output_type": "stream",
     "text": [
      "<filter object at 0x000001A7C0F29790>\n",
      "[0, 2, 4, 6, 8, 10, 12, 14]\n"
     ]
    }
   ],
   "source": [
    "even_numbers = filter(is_even, numbers)\n",
    "#even_numbers = filter(lambda x: x % 2 == 0, numbers)\n",
    "\n",
    "print(even_numbers)\n",
    "print(list(even_numbers))"
   ]
  },
  {
   "cell_type": "markdown",
   "id": "divine-british",
   "metadata": {},
   "source": [
    "### map"
   ]
  },
  {
   "cell_type": "code",
   "execution_count": 85,
   "id": "collect-south",
   "metadata": {},
   "outputs": [
    {
     "data": {
      "text/plain": [
       "['Numero 0.',\n",
       " 'Numero 1.',\n",
       " 'Numero 2.',\n",
       " 'Numero 3.',\n",
       " 'Numero 4.',\n",
       " 'Numero 5.',\n",
       " 'Numero 6.',\n",
       " 'Numero 7.',\n",
       " 'Numero 8.',\n",
       " 'Numero 9.',\n",
       " 'Numero 10.',\n",
       " 'Numero 11.',\n",
       " 'Numero 12.',\n",
       " 'Numero 13.',\n",
       " 'Numero 14.']"
      ]
     },
     "execution_count": 85,
     "metadata": {},
     "output_type": "execute_result"
    }
   ],
   "source": [
    "list(map(lambda x: f'Numero {x}.', numbers))"
   ]
  },
  {
   "cell_type": "markdown",
   "id": "serious-sunglasses",
   "metadata": {},
   "source": [
    "### sort, sorted\n",
    "`sort` - work in-place (it's a method of `list`), returns `None`\n",
    "\n",
    "`sorted` - work with copy, returns new iterable"
   ]
  },
  {
   "cell_type": "code",
   "execution_count": 86,
   "id": "forced-clear",
   "metadata": {},
   "outputs": [
    {
     "name": "stdout",
     "output_type": "stream",
     "text": [
      "[0, 1, 2, 3, 4, 5, 6, 7, 8, 9, 10, 11, 12, 13, 14]\n",
      "[14, 13, 12, 11, 10, 9, 8, 7, 6, 5, 4, 3, 2, 1, 0]\n"
     ]
    }
   ],
   "source": [
    "numbers = list(range(15))\n",
    "\n",
    "# list.sort\n",
    "print(numbers)\n",
    "numbers.sort(reverse=True)\n",
    "print(numbers)"
   ]
  },
  {
   "cell_type": "code",
   "execution_count": 87,
   "id": "tropical-chemical",
   "metadata": {},
   "outputs": [
    {
     "name": "stdout",
     "output_type": "stream",
     "text": [
      "[0, 1, 2, 3, 4, 5, 6, 7, 8, 9, 10, 11, 12, 13, 14]\n",
      "[14, 13, 12, 11, 10, 9, 8, 7, 6, 5, 4, 3, 2, 1, 0]\n"
     ]
    }
   ],
   "source": [
    "# sorted\n",
    "numbers = list(range(15))\n",
    "sorted_numbers = sorted(numbers, reverse=True)\n",
    "\n",
    "print(numbers)\n",
    "print(sorted_numbers)"
   ]
  },
  {
   "cell_type": "markdown",
   "id": "descending-duplicate",
   "metadata": {},
   "source": [
    "# hints/tips for debugging"
   ]
  },
  {
   "cell_type": "markdown",
   "id": "hollywood-nirvana",
   "metadata": {},
   "source": [
    "- breakpoint\n",
    "- conditional breakpoint\n",
    "- change value at break (via expression evaluator)\n",
    "- interactive console (will modify values)\n",
    "- allow parallel run"
   ]
  },
  {
   "cell_type": "code",
   "execution_count": 88,
   "id": "exterior-chrome",
   "metadata": {},
   "outputs": [
    {
     "name": "stdout",
     "output_type": "stream",
     "text": [
      "State at index 0 ...\n",
      "State at index 1 ...\n",
      "State at index 2 ...\n",
      "State at index 3 ...\n",
      "State at index 4 ...\n",
      "State at index 5 ...\n",
      "State at index 6 ...\n",
      "State at index 7 ...\n",
      "State at index 8 ...\n",
      "State at index 9 ...\n",
      "State at index 10 updated\n",
      "State at index 11 updated\n",
      "State at index 12 updated\n",
      "State at index 13 updated\n",
      "State at index 14 updated\n"
     ]
    }
   ],
   "source": [
    "# %load python2.6.debugging.py\n",
    "class State:\n",
    "    status = '...'\n",
    "\n",
    "    def __str__(self):\n",
    "        return str(self.status)\n",
    "\n",
    "\n",
    "state = State()\n",
    "for i in range(15):\n",
    "\n",
    "    if i == 10:\n",
    "        state.status = 'updated'\n",
    "\n",
    "    a = 0\n",
    "\n",
    "    print(f'State at index {i} {state}')"
   ]
  },
  {
   "cell_type": "markdown",
   "id": "incident-riverside",
   "metadata": {},
   "source": [
    "# logging\n",
    "- print is easy, but hard to maintain soon, when code grows\n",
    "- threadsafe\n",
    "- highly customizable (runtime, INI, JSON)"
   ]
  },
  {
   "cell_type": "code",
   "execution_count": 89,
   "id": "civic-california",
   "metadata": {},
   "outputs": [
    {
     "name": "stderr",
     "output_type": "stream",
     "text": [
      "2021-04-20 16:53:24,127 [root] INFO: from root logger\n",
      "2021-04-20 16:53:24,127 [module A] DEBUG: a-message\n",
      "2021-04-20 16:53:24,127 [module B] INFO: b-message\n",
      "2021-04-20 16:53:24,127 [module B] ERROR: err\n"
     ]
    }
   ],
   "source": [
    "# work only in fine, not Jupyter notebook!\n",
    "\n",
    "import logging\n",
    "import sys\n",
    "\n",
    "#logging.basicConfig(level=logging.DEBUG)\n",
    "logging.basicConfig(level=logging.DEBUG, format='%(asctime)s [%(name)s] %(levelname)s: %(message)s')\n",
    "\n",
    "logging.info('from root logger')\n",
    "\n",
    "logger_a = logging.getLogger('module A')\n",
    "logger_b = logging.getLogger('module B')\n",
    "\n",
    "logger_a.debug('a-message')\n",
    "logger_b.info('b-message')\n",
    "\n",
    "logger_b.error('err')"
   ]
  },
  {
   "cell_type": "markdown",
   "id": "optical-cooperative",
   "metadata": {},
   "source": [
    "# jupyter notebok as interactive presentation"
   ]
  },
  {
   "cell_type": "markdown",
   "id": "military-phrase",
   "metadata": {},
   "source": [
    "`RISE` 💗, but it can be used also from `File - Export`"
   ]
  },
  {
   "cell_type": "code",
   "execution_count": 90,
   "id": "surrounded-distributor",
   "metadata": {},
   "outputs": [
    {
     "name": "stdout",
     "output_type": "stream",
     "text": [
      "Requirement already satisfied: RISE in c:\\prace\\venv\\lib\\site-packages (5.7.1)\n",
      "Requirement already satisfied: notebook>=6.0 in c:\\prace\\venv\\lib\\site-packages (from RISE) (6.2.0)\n",
      "Requirement already satisfied: jupyter-client>=5.3.4 in c:\\prace\\venv\\lib\\site-packages (from notebook>=6.0->RISE) (6.1.11)\n",
      "Requirement already satisfied: ipykernel in c:\\prace\\venv\\lib\\site-packages (from notebook>=6.0->RISE) (5.4.3)\n",
      "Requirement already satisfied: tornado>=6.1 in c:\\prace\\venv\\lib\\site-packages (from notebook>=6.0->RISE) (6.1)\n",
      "Requirement already satisfied: nbconvert in c:\\prace\\venv\\lib\\site-packages (from notebook>=6.0->RISE) (6.0.7)\n",
      "Requirement already satisfied: prometheus-client in c:\\prace\\venv\\lib\\site-packages (from notebook>=6.0->RISE) (0.9.0)\n",
      "Requirement already satisfied: traitlets>=4.2.1 in c:\\prace\\venv\\lib\\site-packages (from notebook>=6.0->RISE) (5.0.5)\n",
      "Requirement already satisfied: jinja2 in c:\\prace\\venv\\lib\\site-packages (from notebook>=6.0->RISE) (2.11.3)\n",
      "Requirement already satisfied: ipython-genutils in c:\\prace\\venv\\lib\\site-packages (from notebook>=6.0->RISE) (0.2.0)\n",
      "Requirement already satisfied: nbformat in c:\\prace\\venv\\lib\\site-packages (from notebook>=6.0->RISE) (5.1.2)\n",
      "Requirement already satisfied: terminado>=0.8.3 in c:\\prace\\venv\\lib\\site-packages (from notebook>=6.0->RISE) (0.9.2)\n",
      "Requirement already satisfied: argon2-cffi in c:\\prace\\venv\\lib\\site-packages (from notebook>=6.0->RISE) (20.1.0)\n",
      "Requirement already satisfied: jupyter-core>=4.6.1 in c:\\prace\\venv\\lib\\site-packages (from notebook>=6.0->RISE) (4.7.1)\n",
      "Requirement already satisfied: Send2Trash>=1.5.0 in c:\\prace\\venv\\lib\\site-packages (from notebook>=6.0->RISE) (1.5.0)\n",
      "Requirement already satisfied: pyzmq>=17 in c:\\prace\\venv\\lib\\site-packages (from notebook>=6.0->RISE) (22.0.2)\n",
      "Requirement already satisfied: python-dateutil>=2.1 in c:\\prace\\venv\\lib\\site-packages (from jupyter-client>=5.3.4->notebook>=6.0->RISE) (2.8.1)\n",
      "Requirement already satisfied: pywin32>=1.0 in c:\\prace\\venv\\lib\\site-packages (from jupyter-core>=4.6.1->notebook>=6.0->RISE) (300)\n",
      "Requirement already satisfied: six>=1.5 in c:\\prace\\venv\\lib\\site-packages (from python-dateutil>=2.1->jupyter-client>=5.3.4->notebook>=6.0->RISE) (1.15.0)\n",
      "Requirement already satisfied: pywinpty>=0.5 in c:\\prace\\venv\\lib\\site-packages (from terminado>=0.8.3->notebook>=6.0->RISE) (0.5.7)\n",
      "Requirement already satisfied: cffi>=1.0.0 in c:\\prace\\venv\\lib\\site-packages (from argon2-cffi->notebook>=6.0->RISE) (1.14.4)\n",
      "Requirement already satisfied: pycparser in c:\\prace\\venv\\lib\\site-packages (from cffi>=1.0.0->argon2-cffi->notebook>=6.0->RISE) (2.20)\n",
      "Requirement already satisfied: ipython>=5.0.0 in c:\\prace\\venv\\lib\\site-packages (from ipykernel->notebook>=6.0->RISE) (7.20.0)\n",
      "Requirement already satisfied: backcall in c:\\prace\\venv\\lib\\site-packages (from ipython>=5.0.0->ipykernel->notebook>=6.0->RISE) (0.2.0)\n",
      "Requirement already satisfied: setuptools>=18.5 in c:\\prace\\venv\\lib\\site-packages (from ipython>=5.0.0->ipykernel->notebook>=6.0->RISE) (49.2.1)\n",
      "Requirement already satisfied: decorator in c:\\prace\\venv\\lib\\site-packages (from ipython>=5.0.0->ipykernel->notebook>=6.0->RISE) (4.4.2)\n",
      "Requirement already satisfied: jedi>=0.16 in c:\\prace\\venv\\lib\\site-packages (from ipython>=5.0.0->ipykernel->notebook>=6.0->RISE) (0.18.0)\n",
      "Requirement already satisfied: colorama in c:\\prace\\venv\\lib\\site-packages (from ipython>=5.0.0->ipykernel->notebook>=6.0->RISE) (0.4.4)\n",
      "Requirement already satisfied: pickleshare in c:\\prace\\venv\\lib\\site-packages (from ipython>=5.0.0->ipykernel->notebook>=6.0->RISE) (0.7.5)\n",
      "Requirement already satisfied: pygments in c:\\prace\\venv\\lib\\site-packages (from ipython>=5.0.0->ipykernel->notebook>=6.0->RISE) (2.7.4)\n",
      "Requirement already satisfied: prompt-toolkit!=3.0.0,!=3.0.1,<3.1.0,>=2.0.0 in c:\\prace\\venv\\lib\\site-packages (from ipython>=5.0.0->ipykernel->notebook>=6.0->RISE) (3.0.14)\n",
      "Requirement already satisfied: parso<0.9.0,>=0.8.0 in c:\\prace\\venv\\lib\\site-packages (from jedi>=0.16->ipython>=5.0.0->ipykernel->notebook>=6.0->RISE) (0.8.1)\n",
      "Requirement already satisfied: wcwidth in c:\\prace\\venv\\lib\\site-packages (from prompt-toolkit!=3.0.0,!=3.0.1,<3.1.0,>=2.0.0->ipython>=5.0.0->ipykernel->notebook>=6.0->RISE) (0.2.5)\n",
      "Requirement already satisfied: MarkupSafe>=0.23 in c:\\prace\\venv\\lib\\site-packages (from jinja2->notebook>=6.0->RISE) (1.1.1)\n",
      "Requirement already satisfied: jupyterlab-pygments in c:\\prace\\venv\\lib\\site-packages (from nbconvert->notebook>=6.0->RISE) (0.1.2)\n",
      "Requirement already satisfied: entrypoints>=0.2.2 in c:\\prace\\venv\\lib\\site-packages (from nbconvert->notebook>=6.0->RISE) (0.3)\n",
      "Requirement already satisfied: nbclient<0.6.0,>=0.5.0 in c:\\prace\\venv\\lib\\site-packages (from nbconvert->notebook>=6.0->RISE) (0.5.1)\n",
      "Requirement already satisfied: defusedxml in c:\\prace\\venv\\lib\\site-packages (from nbconvert->notebook>=6.0->RISE) (0.6.0)\n",
      "Requirement already satisfied: bleach in c:\\prace\\venv\\lib\\site-packages (from nbconvert->notebook>=6.0->RISE) (3.3.0)\n",
      "Requirement already satisfied: testpath in c:\\prace\\venv\\lib\\site-packages (from nbconvert->notebook>=6.0->RISE) (0.4.4)\n",
      "Requirement already satisfied: pandocfilters>=1.4.1 in c:\\prace\\venv\\lib\\site-packages (from nbconvert->notebook>=6.0->RISE) (1.4.3)\n",
      "Requirement already satisfied: mistune<2,>=0.8.1 in c:\\prace\\venv\\lib\\site-packages (from nbconvert->notebook>=6.0->RISE) (0.8.4)\n",
      "Requirement already satisfied: nest-asyncio in c:\\prace\\venv\\lib\\site-packages (from nbclient<0.6.0,>=0.5.0->nbconvert->notebook>=6.0->RISE) (1.5.1)\n",
      "Requirement already satisfied: async-generator in c:\\prace\\venv\\lib\\site-packages (from nbclient<0.6.0,>=0.5.0->nbconvert->notebook>=6.0->RISE) (1.10)\n",
      "Requirement already satisfied: jsonschema!=2.5.0,>=2.4 in c:\\prace\\venv\\lib\\site-packages (from nbformat->notebook>=6.0->RISE) (3.2.0)\n",
      "Requirement already satisfied: pyrsistent>=0.14.0 in c:\\prace\\venv\\lib\\site-packages (from jsonschema!=2.5.0,>=2.4->nbformat->notebook>=6.0->RISE) (0.17.3)\n",
      "Requirement already satisfied: attrs>=17.4.0 in c:\\prace\\venv\\lib\\site-packages (from jsonschema!=2.5.0,>=2.4->nbformat->notebook>=6.0->RISE) (20.3.0)\n",
      "Requirement already satisfied: webencodings in c:\\prace\\venv\\lib\\site-packages (from bleach->nbconvert->notebook>=6.0->RISE) (0.5.1)\n",
      "Requirement already satisfied: packaging in c:\\prace\\venv\\lib\\site-packages (from bleach->nbconvert->notebook>=6.0->RISE) (20.9)\n",
      "Requirement already satisfied: pyparsing>=2.0.2 in c:\\prace\\venv\\lib\\site-packages (from packaging->bleach->nbconvert->notebook>=6.0->RISE) (2.4.7)\n"
     ]
    }
   ],
   "source": [
    "!python -m pip install RISE"
   ]
  },
  {
   "cell_type": "markdown",
   "id": "premium-trash",
   "metadata": {},
   "source": [
    "- View - Cell toolbar - Slideshow\n",
    "    - slide\n",
    "    - subslide\n",
    "    - notes\n",
    "- execute cell during presentation\n",
    "- `h` for Jupyter notebook help\n",
    "- click to `?` for RISE help\n",
    "- `<Space>`, `<Shift> + <Space> - next, previous\n",
    "- `<Alt>+R` - toggle between edit/fullscreen mode"
   ]
  },
  {
   "cell_type": "markdown",
   "id": "interstate-commerce",
   "metadata": {},
   "source": [
    "# comprehensions\n",
    "syntax sugar.\n",
    "- list\n",
    "- dict\n",
    "- set"
   ]
  },
  {
   "cell_type": "code",
   "execution_count": 91,
   "id": "absent-preserve",
   "metadata": {},
   "outputs": [],
   "source": [
    "message = 'this is a sentence'"
   ]
  },
  {
   "cell_type": "code",
   "execution_count": 92,
   "id": "metric-madonna",
   "metadata": {},
   "outputs": [
    {
     "name": "stdout",
     "output_type": "stream",
     "text": [
      "[4, 2, 1, 8]\n"
     ]
    }
   ],
   "source": [
    "words_len = []\n",
    "for word in message.split():\n",
    "    item = len(word)\n",
    "    words_len.append(item)\n",
    "print(words_len)"
   ]
  },
  {
   "cell_type": "code",
   "execution_count": 93,
   "id": "solid-background",
   "metadata": {},
   "outputs": [
    {
     "data": {
      "text/plain": [
       "[4, 2, 1, 8]"
      ]
     },
     "execution_count": 93,
     "metadata": {},
     "output_type": "execute_result"
    }
   ],
   "source": [
    "[len(word) for word in message.split()]"
   ]
  },
  {
   "cell_type": "code",
   "execution_count": 94,
   "id": "infectious-reduction",
   "metadata": {},
   "outputs": [
    {
     "data": {
      "text/plain": [
       "{'this': 4, 'is': 2, 'a': 1, 'sentence': 8}"
      ]
     },
     "execution_count": 94,
     "metadata": {},
     "output_type": "execute_result"
    }
   ],
   "source": [
    "{word: len(word) for word in message.split()}"
   ]
  },
  {
   "cell_type": "code",
   "execution_count": 95,
   "id": "threaded-midnight",
   "metadata": {
    "scrolled": true
   },
   "outputs": [
    {
     "data": {
      "text/plain": [
       "{1, 2, 4, 8}"
      ]
     },
     "execution_count": 95,
     "metadata": {},
     "output_type": "execute_result"
    }
   ],
   "source": [
    "{len(word) for word in message.split()}"
   ]
  },
  {
   "cell_type": "markdown",
   "id": "minor-danish",
   "metadata": {},
   "source": [
    "# ternary operator"
   ]
  },
  {
   "cell_type": "code",
   "execution_count": 96,
   "id": "sudden-closing",
   "metadata": {},
   "outputs": [
    {
     "name": "stdout",
     "output_type": "stream",
     "text": [
      "it is TRUE\n"
     ]
    }
   ],
   "source": [
    "is_empty = True\n",
    "\n",
    "if is_empty:\n",
    "    value = 'it is TRUE'\n",
    "else:\n",
    "    value = 'FALSE'\n",
    "\n",
    "print(value)"
   ]
  },
  {
   "cell_type": "code",
   "execution_count": 97,
   "id": "extensive-french",
   "metadata": {},
   "outputs": [
    {
     "name": "stdout",
     "output_type": "stream",
     "text": [
      "it is TRUE\n"
     ]
    }
   ],
   "source": [
    "is_empty = True\n",
    "\n",
    "value = 'it is TRUE' if is_empty else 'FALSE'\n",
    "\n",
    "print(value)"
   ]
  },
  {
   "cell_type": "markdown",
   "id": "annual-behalf",
   "metadata": {},
   "source": [
    "# decorators\n",
    "\n",
    "**Example**: simple implementation of `timeit` that collects stats"
   ]
  },
  {
   "cell_type": "code",
   "execution_count": 98,
   "id": "muslim-episode",
   "metadata": {},
   "outputs": [
    {
     "name": "stdout",
     "output_type": "stream",
     "text": [
      "1.0137207508087158\n"
     ]
    }
   ],
   "source": [
    "import time\n",
    "\n",
    "a = time.time()\n",
    "time.sleep(1)\n",
    "b = time.time()\n",
    "\n",
    "print(b-a)"
   ]
  },
  {
   "cell_type": "markdown",
   "id": "therapeutic-howard",
   "metadata": {},
   "source": [
    "### 1. wrap it into function, collect stats"
   ]
  },
  {
   "cell_type": "code",
   "execution_count": 99,
   "id": "induced-frequency",
   "metadata": {
    "scrolled": true
   },
   "outputs": [
    {
     "name": "stdout",
     "output_type": "stream",
     "text": [
      "working...\n",
      "done.\n",
      "0.5047554969787598\n"
     ]
    }
   ],
   "source": [
    "def heavy_load():\n",
    "    print('working...')\n",
    "    time.sleep(0.5)\n",
    "    print('done.')\n",
    "\n",
    "a = time.time()\n",
    "heavy_load()\n",
    "b = time.time()\n",
    "\n",
    "print(b - a)"
   ]
  },
  {
   "cell_type": "markdown",
   "id": "protective-motor",
   "metadata": {},
   "source": [
    "### 2. first decorator: function that returns function"
   ]
  },
  {
   "cell_type": "code",
   "execution_count": 100,
   "id": "clinical-frequency",
   "metadata": {
    "scrolled": true
   },
   "outputs": [
    {
     "name": "stdout",
     "output_type": "stream",
     "text": [
      "calling decor\n",
      "working...\n",
      "done.\n",
      "\n",
      "working...\n",
      "done.\n"
     ]
    }
   ],
   "source": [
    "def decor(fn):\n",
    "    print('calling decor')\n",
    "    return fn\n",
    "\n",
    "@decor\n",
    "def heavy_load():\n",
    "    print('working...')\n",
    "    time.sleep(0.5)\n",
    "    print('done.')\n",
    "\n",
    "heavy_load()\n",
    "print('')\n",
    "heavy_load()"
   ]
  },
  {
   "cell_type": "markdown",
   "id": "abroad-honduras",
   "metadata": {},
   "source": [
    "### 3. modify returned function"
   ]
  },
  {
   "cell_type": "code",
   "execution_count": 101,
   "id": "expressed-hands",
   "metadata": {},
   "outputs": [
    {
     "name": "stdout",
     "output_type": "stream",
     "text": [
      "calling decor\n",
      "working...\n",
      "done.\n",
      "\n",
      "calling decor\n",
      "working...\n",
      "done.\n"
     ]
    }
   ],
   "source": [
    "def decor(fn):\n",
    "    def wrapper():\n",
    "        print('calling decor')\n",
    "        return fn()\n",
    "    return wrapper\n",
    "\n",
    "@decor\n",
    "def heavy_load():\n",
    "    print('working...')\n",
    "    time.sleep(0.5)\n",
    "    print('done.')\n",
    "\n",
    "heavy_load()\n",
    "print('')\n",
    "heavy_load()"
   ]
  },
  {
   "cell_type": "markdown",
   "id": "excessive-inquiry",
   "metadata": {},
   "source": [
    "### 3. add measuring and collection of duration"
   ]
  },
  {
   "cell_type": "code",
   "execution_count": 102,
   "id": "other-candy",
   "metadata": {},
   "outputs": [
    {
     "name": "stdout",
     "output_type": "stream",
     "text": [
      "calling decor\n",
      "working...\n",
      "done.\n",
      "calling decor\n",
      "working...\n",
      "done.\n",
      "calling decor\n",
      "working...\n",
      "done.\n",
      "[0.5146937370300293, 0.5155410766601562, 0.5013332366943359]\n"
     ]
    }
   ],
   "source": [
    "stats = []\n",
    "\n",
    "def timeit(fn):\n",
    "    def wrapper():\n",
    "        print('calling decor')\n",
    "        a = time.time()\n",
    "        retval = fn()\n",
    "        b = time.time()\n",
    "        stats.append(b-a)\n",
    "        return retval\n",
    "\n",
    "    return wrapper\n",
    "\n",
    "@timeit\n",
    "def heavy_load():\n",
    "    print('working...')\n",
    "    time.sleep(0.5)\n",
    "    print('done.')\n",
    "\n",
    "heavy_load()\n",
    "heavy_load()\n",
    "heavy_load()\n",
    "\n",
    "print(stats)"
   ]
  },
  {
   "cell_type": "code",
   "execution_count": null,
   "id": "organic-silence",
   "metadata": {},
   "outputs": [],
   "source": []
  }
 ],
 "metadata": {
  "kernelspec": {
   "display_name": "Python 3",
   "language": "python",
   "name": "python3"
  },
  "language_info": {
   "codemirror_mode": {
    "name": "ipython",
    "version": 3
   },
   "file_extension": ".py",
   "mimetype": "text/x-python",
   "name": "python",
   "nbconvert_exporter": "python",
   "pygments_lexer": "ipython3",
   "version": "3.8.6"
  }
 },
 "nbformat": 4,
 "nbformat_minor": 5
}
