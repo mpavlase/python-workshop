{
 "cells": [
  {
   "cell_type": "markdown",
   "metadata": {},
   "source": [
    "# 1. Implement Card class"
   ]
  },
  {
   "cell_type": "markdown",
   "metadata": {},
   "source": [
    "Implement simplified representation of deck-card (for board games like \"solitér\", \"žolík\", \"kanasta\" etc.) as class `Card` with these features:\n",
    "1. each `Card` instance has these attributes:\n",
    "    * `color` (`'black'`, `'red'`) - mandatory,\n",
    "    * `value` (usual values are `2`, `3`, ..., `10`) - mandatory\n",
    "    * (figure out name by yourself) to store a fact, that card can lay on table by face up or down. By default, face is down (=you don't see actual color and value).\n",
    "    * it's not necessary to verify actual values for `color` and `value` this time - this execise is focused to work with objects\n",
    "1. implement method `is_same(card)`, that accepts another instance of `Card` and returns boolean value if current instance has same `color` and `value` as given instance (`card`)\n",
    "1. implement methods `__str__` and `flip()`\n",
    "    * `flip()` will change string representation - to show, or hide actual color/value\n",
    "    * example of string representation a card with:\n",
    "        * face down: `Card: ?? (??)`\n",
    "        * face up: `Card: 7 (black)`\n",
    "\n",
    "![](https://www.magictricks.com/assets/images/trickspix/cheekcheek.jpg)\n",
    "**Left: face down, right: face up**"
   ]
  },
  {
   "cell_type": "code",
   "execution_count": null,
   "metadata": {},
   "outputs": [],
   "source": []
  },
  {
   "cell_type": "markdown",
   "metadata": {},
   "source": [
    "Create manually three new instances of `Car` by this description (don't parse strings below, just pick what is important for you) and store them to individual variables.\n",
    "1. red card with value 5\n",
    "1. red card with value 5\n",
    "1. black card with value 7\n",
    "\n",
    "Have fun with your objects 🙂. Try to `print` them, call `flip` (and print it again) and `is_same` methods."
   ]
  },
  {
   "cell_type": "code",
   "execution_count": null,
   "metadata": {},
   "outputs": [],
   "source": []
  },
  {
   "cell_type": "markdown",
   "metadata": {},
   "source": [
    "# 2. Create Red and Black card classes\n",
    "\n",
    "Think about generalization of your current implementation. We will always have only `red` and `black` cards.\n",
    "\n",
    "Let's simplify their creation by making individual classes (`RedCard`, `BlackCard`) for them and require to pass only `value` during instanciation. Just note that most of implementation is already done in `Card` - don't repeat yourself ([DRY](https://en.wikipedia.org/wiki/Don%27t_repeat_yourself)). So for each of then the color will be always pre-filled (don't use default value for argument, it you have this temptation).\n",
    "\n",
    "Try them to create instance to test, if it works identically like previous examples."
   ]
  },
  {
   "cell_type": "code",
   "execution_count": null,
   "metadata": {},
   "outputs": [],
   "source": []
  },
  {
   "cell_type": "markdown",
   "metadata": {},
   "source": [
    "# 3. Create a deck of cards\n",
    "\n",
    "Manual creation is boring, let's generate all possible combinations.\n",
    "* store all cards into list as deck of cards\n",
    "* colors: `'black'`, `'red'` (as strings)\n",
    "* values: 2, 3, 4, 5, 6, 7, 8, 9, 10\n",
    "\n",
    "Finally try to print your deck."
   ]
  },
  {
   "cell_type": "code",
   "execution_count": null,
   "metadata": {},
   "outputs": [],
   "source": []
  },
  {
   "cell_type": "markdown",
   "metadata": {},
   "source": [
    "# Bonus 1: discover difference between `__str__` vs `__repr__`"
   ]
  },
  {
   "cell_type": "markdown",
   "metadata": {},
   "source": [
    "Printed deck of cards from previous task looks like this:\n",
    "```\n",
    "[<__main__.Card object at 0x000001C8BB41A520>, <__main__.Card object at 0x000001C8BB41ACA0>, <__main__.Card object at 0x000001C8BB41AE50>, (plenty of others)]\n",
    "```\n",
    "\n",
    "It's not so pretty. Add a new method `__repr__(self)` to `Card` (or extend it by creating `ReprCard`) and whenever something will invoke the method it will return string like this:\n",
    "\n",
    "* `<Card red 7>`,\n",
    "* `<Card black 5>`."
   ]
  },
  {
   "cell_type": "code",
   "execution_count": null,
   "metadata": {
    "scrolled": false
   },
   "outputs": [],
   "source": []
  },
  {
   "cell_type": "markdown",
   "metadata": {},
   "source": [
    "Don't call `__methodname__` manually, use public functions to do that: `str()` and `repr()`\n",
    "\n",
    "```python\n",
    "print(str(card))\n",
    "print(repr(card))\n",
    "```"
   ]
  },
  {
   "cell_type": "code",
   "execution_count": null,
   "metadata": {},
   "outputs": [],
   "source": []
  },
  {
   "cell_type": "markdown",
   "metadata": {},
   "source": [
    "# Bonus 2: create deck of card by using `BlackCard` and `RedCard`\n",
    "\n",
    "Change exercise 3 (create a deck of cards) to use `BlackCard` and `RedCard` implementation instead of passing color as string."
   ]
  },
  {
   "cell_type": "code",
   "execution_count": null,
   "metadata": {},
   "outputs": [],
   "source": []
  }
 ],
 "metadata": {
  "kernelspec": {
   "display_name": "Python 3",
   "language": "python",
   "name": "python3"
  },
  "language_info": {
   "codemirror_mode": {
    "name": "ipython",
    "version": 3
   },
   "file_extension": ".py",
   "mimetype": "text/x-python",
   "name": "python",
   "nbconvert_exporter": "python",
   "pygments_lexer": "ipython3",
   "version": "3.8.5"
  }
 },
 "nbformat": 4,
 "nbformat_minor": 4
}
